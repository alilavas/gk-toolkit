{
 "cells": [
  {
   "cell_type": "code",
   "execution_count": 85,
   "metadata": {},
   "outputs": [
    {
     "data": {
      "text/plain": [
       "arIdx (generic function with 1 method)"
      ]
     },
     "metadata": {},
     "output_type": "display_data"
    }
   ],
   "source": [
    "using Plots,FileIO\n",
    "using LinearAlgebra\n",
    "include(\"GKA.jl\");\n",
    "\n",
    "function arIdx(x,a)    \n",
    "    #Finds index of element x in the array a\n",
    "    #works even if elements of a are tuples or arrays.\n",
    "    #is not fool-proof. can raise errors if not used in the right place\n",
    "    return findfirst(y->sum(x.≉y)==0,a) \n",
    "end"
   ]
  },
  {
   "cell_type": "code",
   "execution_count": 2,
   "metadata": {
    "scrolled": true
   },
   "outputs": [
    {
     "data": {
      "text/plain": [
       "6×6 Matrix{UInt8}:\n",
       " 0x01  0x00  0x00  0x00  0x00  0x00\n",
       " 0x00  0x01  0x00  0x00  0x00  0x00\n",
       " 0x00  0x00  0x01  0x00  0x00  0x00\n",
       " 0x00  0x00  0x00  0x01  0x00  0x00\n",
       " 0x00  0x00  0x00  0x00  0x01  0x00\n",
       " 0x00  0x00  0x00  0x00  0x00  0x01"
      ]
     },
     "metadata": {},
     "output_type": "display_data"
    },
    {
     "data": {
      "text/plain": [
       "6×6 Matrix{UInt8}:\n",
       " 0x01  0x00  0x00  0x00  0x00  0x00\n",
       " 0x00  0x01  0x00  0x00  0x00  0x00\n",
       " 0x00  0x00  0x01  0x00  0x00  0x00\n",
       " 0x00  0x00  0x00  0x01  0x00  0x00\n",
       " 0x00  0x00  0x00  0x00  0x01  0x00\n",
       " 0x00  0x00  0x00  0x00  0x00  0x01"
      ]
     },
     "metadata": {},
     "output_type": "display_data"
    },
    {
     "data": {
      "text/plain": [
       "6×6 Matrix{UInt8}:\n",
       " 0x00  0x01  0x00  0x01  0x00  0x00\n",
       " 0x00  0x01  0x00  0x00  0x00  0x00\n",
       " 0x00  0x00  0x01  0x00  0x00  0x00\n",
       " 0x01  0x00  0x00  0x00  0x00  0x00\n",
       " 0x01  0x00  0x00  0x00  0x01  0x00\n",
       " 0x00  0x00  0x00  0x00  0x00  0x01"
      ]
     },
     "metadata": {},
     "output_type": "display_data"
    },
    {
     "data": {
      "text/plain": [
       "6×6 Matrix{UInt8}:\n",
       " 0x00  0x01  0x00  0x01  0x00  0x00\n",
       " 0x00  0x01  0x00  0x00  0x00  0x00\n",
       " 0x00  0x00  0x01  0x00  0x00  0x00\n",
       " 0x01  0x00  0x00  0x00  0x00  0x00\n",
       " 0x01  0x00  0x00  0x00  0x01  0x00\n",
       " 0x00  0x00  0x00  0x00  0x00  0x01"
      ]
     },
     "metadata": {},
     "output_type": "display_data"
    },
    {
     "data": {
      "text/plain": [
       "6×6 Matrix{UInt8}:\n",
       " 0x00  0x00  0x01  0x01  0x01  0x00\n",
       " 0x00  0x00  0x01  0x00  0x01  0x00\n",
       " 0x00  0x00  0x01  0x00  0x00  0x00\n",
       " 0x01  0x00  0x00  0x00  0x00  0x00\n",
       " 0x01  0x01  0x00  0x00  0x00  0x00\n",
       " 0x00  0x01  0x00  0x00  0x00  0x01"
      ]
     },
     "metadata": {},
     "output_type": "display_data"
    },
    {
     "data": {
      "text/plain": [
       "6×6 Matrix{UInt8}:\n",
       " 0x00  0x00  0x01  0x01  0x01  0x00\n",
       " 0x00  0x00  0x01  0x00  0x01  0x00\n",
       " 0x00  0x00  0x01  0x00  0x00  0x00\n",
       " 0x01  0x00  0x00  0x00  0x00  0x00\n",
       " 0x01  0x01  0x00  0x00  0x00  0x00\n",
       " 0x00  0x01  0x00  0x00  0x00  0x01"
      ]
     },
     "metadata": {},
     "output_type": "display_data"
    },
    {
     "data": {
      "text/plain": [
       "6×6 Matrix{UInt8}:\n",
       " 0x00  0x00  0x01  0x01  0x01  0x00\n",
       " 0x00  0x00  0x01  0x00  0x01  0x00\n",
       " 0x00  0x00  0x01  0x00  0x00  0x00\n",
       " 0x01  0x00  0x00  0x00  0x00  0x00\n",
       " 0x01  0x01  0x00  0x00  0x00  0x00\n",
       " 0x00  0x01  0x00  0x00  0x00  0x01"
      ]
     },
     "metadata": {},
     "output_type": "display_data"
    },
    {
     "data": {
      "text/plain": [
       "6×6 Matrix{UInt8}:\n",
       " 0x00  0x00  0x01  0x01  0x01  0x00\n",
       " 0x00  0x00  0x01  0x00  0x01  0x00\n",
       " 0x00  0x00  0x01  0x00  0x00  0x00\n",
       " 0x01  0x00  0x00  0x00  0x00  0x00\n",
       " 0x01  0x01  0x00  0x00  0x00  0x00\n",
       " 0x00  0x01  0x00  0x00  0x00  0x01"
      ]
     },
     "metadata": {},
     "output_type": "display_data"
    },
    {
     "data": {
      "text/plain": [
       "6×6 Matrix{UInt8}:\n",
       " 0x00  0x00  0x01  0x01  0x01  0x00\n",
       " 0x00  0x00  0x01  0x00  0x01  0x00\n",
       " 0x00  0x00  0x01  0x00  0x00  0x00\n",
       " 0x01  0x00  0x00  0x00  0x00  0x00\n",
       " 0x01  0x01  0x00  0x00  0x00  0x00\n",
       " 0x00  0x01  0x00  0x00  0x00  0x01"
      ]
     },
     "metadata": {},
     "output_type": "display_data"
    },
    {
     "name": "stdout",
     "output_type": "stream",
     "text": [
      "initial tableau:\n",
      "rank: 0 and phases:UInt8[0x00, 0x00, 0x00, 0x00, 0x00, 0x00]\n",
      "\n",
      "measure Z1Z2:\n",
      "\n",
      "\u001b[34m measuring: UInt8[0x00, 0x00, 0x00, 0x01, 0x01, 0x00]\u001b[39m\n",
      "state has originally tableau:\n",
      "with rank:0 and phases:UInt8[0x00, 0x00, 0x00, 0x00, 0x00, 0x00]\n",
      "no noncommuting in-group stabilizer\n",
      "a non-commuting out-of-group stabilizer has been found:\n",
      " UInt8[0x01, 0x00, 0x00, 0x00, 0x00, 0x00]\n",
      "outcome: 2\n",
      "resulting tableau:\n",
      "rank: 1 and phases:UInt8[0x02, 0x00, 0x00, 0x00, 0x00, 0x00]\n",
      "\n",
      "measure Z2Z3:\n",
      "\n",
      "\u001b[34m measuring: UInt8[0x00, 0x00, 0x00, 0x00, 0x01, 0x01]\u001b[39m\n",
      "state has originally tableau:\n",
      "with rank:1 and phases:UInt8[0x02, 0x00, 0x00, 0x00, 0x00, 0x00]\n",
      "no noncommuting in-group stabilizer\n",
      "a non-commuting out-of-group stabilizer has been found:\n",
      " UInt8[0x01, 0x01, 0x00, 0x00, 0x00, 0x00]\n",
      "outcome: 2\n",
      "resulting tableau:\n",
      "rank: 2 and phases:UInt8[0x02, 0x02, 0x00, 0x00, 0x00, 0x00]\n",
      "\n",
      "measure Z1Z3:\n",
      "\n",
      "\u001b[34m measuring: UInt8[0x00, 0x00, 0x00, 0x01, 0x00, 0x01]\u001b[39m\n",
      "state has originally tableau:\n",
      "with rank:2 and phases:UInt8[0x02, 0x02, 0x00, 0x00, 0x00, 0x00]\n",
      "no noncommuting in-group stabilizer\n",
      "no noncommuting out-of-group stabilizer\n",
      "no noncommuting out-of-group destabilizer.\n",
      " g is in the stabilizer group\n",
      "outcome: 0\n",
      "resulting tableau:\n",
      "rank: 2 and phases:UInt8[0x02, 0x02, 0x00, 0x00, 0x00, 0x00]\n",
      "\n",
      "measure X1X2X3:\n",
      "\n",
      "\u001b[34m measuring: UInt8[0x01, 0x01, 0x01, 0x00, 0x00, 0x00]\u001b[39m\n",
      "state has originally tableau:\n",
      "with rank:2 and phases:UInt8[0x02, 0x02, 0x00, 0x00, 0x00, 0x00]\n",
      "no noncommuting in-group stabilizer\n",
      "no noncommuting out-of-group stabilizer\n",
      "a non-commuting out-of-group destabilizer has been found:\n",
      " UInt8[0x00, 0x00, 0x00, 0x00, 0x00, 0x01]\n",
      "outcome: 2\n",
      "resulting tableau:\n",
      "rank: 3 and phases:UInt8[0x02, 0x02, 0x02, 0x00, 0x00, 0x00]\n",
      "\n"
     ]
    }
   ],
   "source": [
    "###EXAMPLE: GHZ\n",
    "\n",
    "N=3\n",
    "rho=totallyMixed(3)\n",
    "println(\"initial tableau:\")\n",
    "display(rho.tab)\n",
    "println(\"rank: $(rho.rank) and phases:$(rho.phases)\\n\")\n",
    "\n",
    "println(\"measure Z1Z2:\")\n",
    "Z1Z2=UInt8[0,0,0,1,1,0]\n",
    "println(\"outcome: \",measure(rho,Z1Z2,0x00,true))\n",
    "println(\"resulting tableau:\")\n",
    "display(rho.tab)\n",
    "println(\"rank: $(rho.rank) and phases:$(rho.phases)\\n\")\n",
    "\n",
    "\n",
    "println(\"measure Z2Z3:\")\n",
    "Z2Z3=UInt8[0,0,0,0,1,1]\n",
    "println(\"outcome: \",measure(rho,Z2Z3,0x00,true))\n",
    "println(\"resulting tableau:\")\n",
    "display(rho.tab)\n",
    "println(\"rank: $(rho.rank) and phases:$(rho.phases)\\n\")\n",
    "\n",
    "println(\"measure Z1Z3:\")\n",
    "Z1Z3=UInt8[0,0,0,1,0,1]\n",
    "println(\"outcome: \",measure(rho,Z1Z3,0x00,true))\n",
    "println(\"resulting tableau:\")\n",
    "display(rho.tab)\n",
    "println(\"rank: $(rho.rank) and phases:$(rho.phases)\\n\")\n",
    "\n",
    "println(\"measure X1X2X3:\")\n",
    "X1X2X3=UInt8[1,1,1,0,0,0]\n",
    "println(\"outcome: \",measure(rho,X1X2X3,0x00,true))\n",
    "println(\"resulting tableau:\")\n",
    "display(rho.tab)\n",
    "println(\"rank: $(rho.rank) and phases:$(rho.phases)\\n\")\n",
    "\n",
    "# println(\"measure Z1:\")\n",
    "# Z1=UInt8[0,0,0,1,0,0]\n",
    "# println(\"outcome: \", measure(rho,Z1,0x00,true))\n",
    "# println(\"resulting tableau:\")\n",
    "# display(rho.tab)\n",
    "# println(\"rank: $(rho.rank) and phases:$(rho.phases)\\n\")\n"
   ]
  },
  {
   "cell_type": "code",
   "execution_count": 9,
   "metadata": {
    "scrolled": false
   },
   "outputs": [
    {
     "name": "stdout",
     "output_type": "stream",
     "text": [
      "\n",
      "l:4, p= 0.0, 0.1, 0.2, 0.3, 0.4, 0.5, 0.6, 0.7, 0.8, 0.9, 1.0,\n",
      "l:8, p= 0.0, 0.1, 0.2, 0.3, 0.4, 0.5, 0.6, 0.7, 0.8, 0.9, 1.0,\n",
      "l:16, p= 0.0, 0.1, 0.2, 0.3, 0.4, 0.5, 0.6, 0.7, 0.8, 0.9, 1.0,\n",
      "l:32, p= 0.0, 0.1, 0.2, 0.3, 0.4, 0.5, 0.6, 0.7, 0.8, 0.9, 1.0,"
     ]
    }
   ],
   "source": [
    "#measurement-only phase transition between XZX phase and trivial phase\n",
    "verbose=false\n",
    "\n",
    "avgnum=100\n",
    "ls=[4,8,16,32]\n",
    "ps=collect(0.0:0.1:1)\n",
    "\n",
    "data=Array{Any}(undef,length(ls),length(ps))\n",
    "\n",
    "\n",
    "for l in ls\n",
    "    print(\"\\nl:$l, p=\")\n",
    "    depth=l\n",
    "    \n",
    "    #XZX stabilizers\n",
    "    XZXs=zeros(UInt8,2l,l-2)\n",
    "    for j=1:l-2\n",
    "        XZXs[j,j]=1\n",
    "        XZXs[j+1+l,j]=1\n",
    "        XZXs[j+2,j]=1\n",
    "    end\n",
    "    \n",
    "    #single qubit stabilizers\n",
    "    singleZs=zeros(UInt8,2l,l)\n",
    "    for j=1:l\n",
    "        singleZs[j+l,j]=1\n",
    "    end\n",
    "        \n",
    "    for p in ps\n",
    "        print(\" $p,\")\n",
    "        S=0\n",
    "        for r =1:avgnum\n",
    "            verbose && println(\"\\n ----------------- new run --------------\\n\")\n",
    "            rho=totallyMixed(l)\n",
    "            for t=1:depth\n",
    "                for ut=1:l\n",
    "                    if rand()<p\n",
    "                        measure(rho, singleZs[:,rand(1:l)],0x00,verbose)\n",
    "                    else\n",
    "                        measure(rho, XZXs[:,rand(1:l-2)],0x00,verbose)\n",
    "                    end\n",
    "                end\n",
    "            end\n",
    "            S+=l-rho.rank\n",
    "        end\n",
    "        S/=avgnum\n",
    "        data[arIdx(l,ls),arIdx(p,ps)]=S\n",
    "    end\n",
    "end\n",
    "\n",
    "    \n",
    "    \n",
    "            \n",
    "            "
   ]
  },
  {
   "cell_type": "code",
   "execution_count": 10,
   "metadata": {},
   "outputs": [
    {
     "data": {
      "image/png": "[encoded data removed]",
      "image/svg+xml": "<?xml version=\"1.0\" encoding=\"utf-8\"?>\n<svg xmlns=\"http://www.w3.org/2000/svg\" xmlns:xlink=\"http://www.w3.org/1999/xlink\" width=\"600\" height=\"400\" viewBox=\"0 0 2400 1600\">\n<defs>\n  <clipPath id=\"clip370\">\n    <rect x=\"0\" y=\"0\" width=\"2400\" height=\"1600\"/>\n  </clipPath>\n</defs>\n<path clip-path=\"url(#clip370)\" d=\"\nM0 1600 L2400 1600 L2400 0 L0 0  Z\n  \" fill=\"#ffffff\" fill-rule=\"evenodd\" fill-opacity=\"1\"/>\n<defs>\n  <clipPath id=\"clip371\">\n    <rect x=\"480\" y=\"0\" width=\"1681\" height=\"1600\"/>\n  </clipPath>\n</defs>\n<path clip-path=\"url(#clip370)\" d=\"\nM156.112 1486.45 L2352.76 1486.45 L2352.76 47.2441 L156.112 47.2441  Z\n  \" fill=\"#ffffff\" fill-rule=\"evenodd\" fill-opacity=\"1\"/>\n<defs>\n  <clipPath id=\"clip372\">\n    <rect x=\"156\" y=\"47\" width=\"2198\" height=\"1440\"/>\n  </clipPath>\n</defs>\n<polyline clip-path=\"url(#clip372)\" style=\"stroke:#000000; stroke-linecap:butt; stroke-linejoin:round; stroke-width:2; stroke-opacity:0.1; fill:none\" points=\"\n  218.281,1486.45 218.281,47.2441 \n  \"/>\n<polyline clip-path=\"url(#clip372)\" style=\"stroke:#000000; stroke-linecap:butt; stroke-linejoin:round; stroke-width:2; stroke-opacity:0.1; fill:none\" points=\"\n  736.358,1486.45 736.358,47.2441 \n  \"/>\n<polyline clip-path=\"url(#clip372)\" style=\"stroke:#000000; stroke-linecap:butt; stroke-linejoin:round; stroke-width:2; stroke-opacity:0.1; fill:none\" points=\"\n  1254.43,1486.45 1254.43,47.2441 \n  \"/>\n<polyline clip-path=\"url(#clip372)\" style=\"stroke:#000000; stroke-linecap:butt; stroke-linejoin:round; stroke-width:2; stroke-opacity:0.1; fill:none\" points=\"\n  1772.51,1486.45 1772.51,47.2441 \n  \"/>\n<polyline clip-path=\"url(#clip372)\" style=\"stroke:#000000; stroke-linecap:butt; stroke-linejoin:round; stroke-width:2; stroke-opacity:0.1; fill:none\" points=\"\n  2290.59,1486.45 2290.59,47.2441 \n  \"/>\n<polyline clip-path=\"url(#clip370)\" style=\"stroke:#000000; stroke-linecap:butt; stroke-linejoin:round; stroke-width:4; stroke-opacity:1; fill:none\" points=\"\n  156.112,1486.45 2352.76,1486.45 \n  \"/>\n<polyline clip-path=\"url(#clip370)\" style=\"stroke:#000000; stroke-linecap:butt; stroke-linejoin:round; stroke-width:4; stroke-opacity:1; fill:none\" points=\"\n  218.281,1486.45 218.281,1467.55 \n  \"/>\n<polyline clip-path=\"url(#clip370)\" style=\"stroke:#000000; stroke-linecap:butt; stroke-linejoin:round; stroke-width:4; stroke-opacity:1; fill:none\" points=\"\n  736.358,1486.45 736.358,1467.55 \n  \"/>\n<polyline clip-path=\"url(#clip370)\" style=\"stroke:#000000; stroke-linecap:butt; stroke-linejoin:round; stroke-width:4; stroke-opacity:1; fill:none\" points=\"\n  1254.43,1486.45 1254.43,1467.55 \n  \"/>\n<polyline clip-path=\"url(#clip370)\" style=\"stroke:#000000; stroke-linecap:butt; stroke-linejoin:round; stroke-width:4; stroke-opacity:1; fill:none\" points=\"\n  1772.51,1486.45 1772.51,1467.55 \n  \"/>\n<polyline clip-path=\"url(#clip370)\" style=\"stroke:#000000; stroke-linecap:butt; stroke-linejoin:round; stroke-width:4; stroke-opacity:1; fill:none\" points=\"\n  2290.59,1486.45 2290.59,1467.55 \n  \"/>\n<path clip-path=\"url(#clip370)\" d=\"M180.585 1517.37 Q176.974 1517.37 175.145 1520.93 Q173.339 1524.47 173.339 1531.6 Q173.339 1538.71 175.145 1542.27 Q176.974 1545.82 180.585 1545.82 Q184.219 1545.82 186.025 1542.27 Q187.853 1538.71 187.853 1531.6 Q187.853 1524.47 186.025 1520.93 Q184.219 1517.37 180.585 1517.37 M180.585 1513.66 Q186.395 1513.66 189.45 1518.27 Q192.529 1522.85 192.529 1531.6 Q192.529 1540.33 189.45 1544.94 Q186.395 1549.52 180.585 1549.52 Q174.775 1549.52 171.696 1544.94 Q168.64 1540.33 168.64 1531.6 Q168.64 1522.85 171.696 1518.27 Q174.775 1513.66 180.585 1513.66 Z\" fill=\"#000000\" fill-rule=\"evenodd\" fill-opacity=\"1\" /><path clip-path=\"url(#clip370)\" d=\"M200.747 1542.97 L205.631 1542.97 L205.631 1548.85 L200.747 1548.85 L200.747 1542.97 Z\" fill=\"#000000\" fill-rule=\"evenodd\" fill-opacity=\"1\" /><path clip-path=\"url(#clip370)\" d=\"M225.816 1517.37 Q222.205 1517.37 220.376 1520.93 Q218.571 1524.47 218.571 1531.6 Q218.571 1538.71 220.376 1542.27 Q222.205 1545.82 225.816 1545.82 Q229.45 1545.82 231.256 1542.27 Q233.084 1538.71 233.084 1531.6 Q233.084 1524.47 231.256 1520.93 Q229.45 1517.37 225.816 1517.37 M225.816 1513.66 Q231.626 1513.66 234.682 1518.27 Q237.76 1522.85 237.76 1531.6 Q237.76 1540.33 234.682 1544.94 Q231.626 1549.52 225.816 1549.52 Q220.006 1549.52 216.927 1544.94 Q213.872 1540.33 213.872 1531.6 Q213.872 1522.85 216.927 1518.27 Q220.006 1513.66 225.816 1513.66 Z\" fill=\"#000000\" fill-rule=\"evenodd\" fill-opacity=\"1\" /><path clip-path=\"url(#clip370)\" d=\"M255.978 1517.37 Q252.367 1517.37 250.538 1520.93 Q248.733 1524.47 248.733 1531.6 Q248.733 1538.71 250.538 1542.27 Q252.367 1545.82 255.978 1545.82 Q259.612 1545.82 261.418 1542.27 Q263.246 1538.71 263.246 1531.6 Q263.246 1524.47 261.418 1520.93 Q259.612 1517.37 255.978 1517.37 M255.978 1513.66 Q261.788 1513.66 264.844 1518.27 Q267.922 1522.85 267.922 1531.6 Q267.922 1540.33 264.844 1544.94 Q261.788 1549.52 255.978 1549.52 Q250.168 1549.52 247.089 1544.94 Q244.033 1540.33 244.033 1531.6 Q244.033 1522.85 247.089 1518.27 Q250.168 1513.66 255.978 1513.66 Z\" fill=\"#000000\" fill-rule=\"evenodd\" fill-opacity=\"1\" /><path clip-path=\"url(#clip370)\" d=\"M699.159 1517.37 Q695.548 1517.37 693.719 1520.93 Q691.913 1524.47 691.913 1531.6 Q691.913 1538.71 693.719 1542.27 Q695.548 1545.82 699.159 1545.82 Q702.793 1545.82 704.599 1542.27 Q706.427 1538.71 706.427 1531.6 Q706.427 1524.47 704.599 1520.93 Q702.793 1517.37 699.159 1517.37 M699.159 1513.66 Q704.969 1513.66 708.024 1518.27 Q711.103 1522.85 711.103 1531.6 Q711.103 1540.33 708.024 1544.94 Q704.969 1549.52 699.159 1549.52 Q693.349 1549.52 690.27 1544.94 Q687.214 1540.33 687.214 1531.6 Q687.214 1522.85 690.27 1518.27 Q693.349 1513.66 699.159 1513.66 Z\" fill=\"#000000\" fill-rule=\"evenodd\" fill-opacity=\"1\" /><path clip-path=\"url(#clip370)\" d=\"M719.321 1542.97 L724.205 1542.97 L724.205 1548.85 L719.321 1548.85 L719.321 1542.97 Z\" fill=\"#000000\" fill-rule=\"evenodd\" fill-opacity=\"1\" /><path clip-path=\"url(#clip370)\" d=\"M738.418 1544.91 L754.737 1544.91 L754.737 1548.85 L732.793 1548.85 L732.793 1544.91 Q735.455 1542.16 740.038 1537.53 Q744.645 1532.88 745.825 1531.53 Q748.071 1529.01 748.95 1527.27 Q749.853 1525.51 749.853 1523.82 Q749.853 1521.07 747.909 1519.33 Q745.987 1517.6 742.885 1517.6 Q740.686 1517.6 738.233 1518.36 Q735.802 1519.13 733.024 1520.68 L733.024 1515.95 Q735.848 1514.82 738.302 1514.24 Q740.756 1513.66 742.793 1513.66 Q748.163 1513.66 751.358 1516.35 Q754.552 1519.03 754.552 1523.52 Q754.552 1525.65 753.742 1527.57 Q752.955 1529.47 750.848 1532.07 Q750.27 1532.74 747.168 1535.95 Q744.066 1539.15 738.418 1544.91 Z\" fill=\"#000000\" fill-rule=\"evenodd\" fill-opacity=\"1\" /><path clip-path=\"url(#clip370)\" d=\"M764.598 1514.29 L782.955 1514.29 L782.955 1518.22 L768.881 1518.22 L768.881 1526.7 Q769.899 1526.35 770.918 1526.19 Q771.936 1526 772.955 1526 Q778.742 1526 782.121 1529.17 Q785.501 1532.34 785.501 1537.76 Q785.501 1543.34 782.029 1546.44 Q778.557 1549.52 772.237 1549.52 Q770.061 1549.52 767.793 1549.15 Q765.547 1548.78 763.14 1548.04 L763.14 1543.34 Q765.223 1544.47 767.445 1545.03 Q769.668 1545.58 772.144 1545.58 Q776.149 1545.58 778.487 1543.48 Q780.825 1541.37 780.825 1537.76 Q780.825 1534.15 778.487 1532.04 Q776.149 1529.94 772.144 1529.94 Q770.27 1529.94 768.395 1530.35 Q766.543 1530.77 764.598 1531.65 L764.598 1514.29 Z\" fill=\"#000000\" fill-rule=\"evenodd\" fill-opacity=\"1\" /><path clip-path=\"url(#clip370)\" d=\"M1216.74 1517.37 Q1213.13 1517.37 1211.3 1520.93 Q1209.49 1524.47 1209.49 1531.6 Q1209.49 1538.71 1211.3 1542.27 Q1213.13 1545.82 1216.74 1545.82 Q1220.37 1545.82 1222.18 1542.27 Q1224.01 1538.71 1224.01 1531.6 Q1224.01 1524.47 1222.18 1520.93 Q1220.37 1517.37 1216.74 1517.37 M1216.74 1513.66 Q1222.55 1513.66 1225.6 1518.27 Q1228.68 1522.85 1228.68 1531.6 Q1228.68 1540.33 1225.6 1544.94 Q1222.55 1549.52 1216.74 1549.52 Q1210.93 1549.52 1207.85 1544.94 Q1204.79 1540.33 1204.79 1531.6 Q1204.79 1522.85 1207.85 1518.27 Q1210.93 1513.66 1216.74 1513.66 Z\" fill=\"#000000\" fill-rule=\"evenodd\" fill-opacity=\"1\" /><path clip-path=\"url(#clip370)\" d=\"M1236.9 1542.97 L1241.78 1542.97 L1241.78 1548.85 L1236.9 1548.85 L1236.9 1542.97 Z\" fill=\"#000000\" fill-rule=\"evenodd\" fill-opacity=\"1\" /><path clip-path=\"url(#clip370)\" d=\"M1252.02 1514.29 L1270.37 1514.29 L1270.37 1518.22 L1256.3 1518.22 L1256.3 1526.7 Q1257.32 1526.35 1258.33 1526.19 Q1259.35 1526 1260.37 1526 Q1266.16 1526 1269.54 1529.17 Q1272.92 1532.34 1272.92 1537.76 Q1272.92 1543.34 1269.45 1546.44 Q1265.97 1549.52 1259.65 1549.52 Q1257.48 1549.52 1255.21 1549.15 Q1252.96 1548.78 1250.56 1548.04 L1250.56 1543.34 Q1252.64 1544.47 1254.86 1545.03 Q1257.08 1545.58 1259.56 1545.58 Q1263.57 1545.58 1265.9 1543.48 Q1268.24 1541.37 1268.24 1537.76 Q1268.24 1534.15 1265.9 1532.04 Q1263.57 1529.94 1259.56 1529.94 Q1257.69 1529.94 1255.81 1530.35 Q1253.96 1530.77 1252.02 1531.65 L1252.02 1514.29 Z\" fill=\"#000000\" fill-rule=\"evenodd\" fill-opacity=\"1\" /><path clip-path=\"url(#clip370)\" d=\"M1292.13 1517.37 Q1288.52 1517.37 1286.69 1520.93 Q1284.89 1524.47 1284.89 1531.6 Q1284.89 1538.71 1286.69 1542.27 Q1288.52 1545.82 1292.13 1545.82 Q1295.76 1545.82 1297.57 1542.27 Q1299.4 1538.71 1299.4 1531.6 Q1299.4 1524.47 1297.57 1520.93 Q1295.76 1517.37 1292.13 1517.37 M1292.13 1513.66 Q1297.94 1513.66 1301 1518.27 Q1304.07 1522.85 1304.07 1531.6 Q1304.07 1540.33 1301 1544.94 Q1297.94 1549.52 1292.13 1549.52 Q1286.32 1549.52 1283.24 1544.94 Q1280.19 1540.33 1280.19 1531.6 Q1280.19 1522.85 1283.24 1518.27 Q1286.32 1513.66 1292.13 1513.66 Z\" fill=\"#000000\" fill-rule=\"evenodd\" fill-opacity=\"1\" /><path clip-path=\"url(#clip370)\" d=\"M1735.31 1517.37 Q1731.7 1517.37 1729.87 1520.93 Q1728.07 1524.47 1728.07 1531.6 Q1728.07 1538.71 1729.87 1542.27 Q1731.7 1545.82 1735.31 1545.82 Q1738.95 1545.82 1740.75 1542.27 Q1742.58 1538.71 1742.58 1531.6 Q1742.58 1524.47 1740.75 1520.93 Q1738.95 1517.37 1735.31 1517.37 M1735.31 1513.66 Q1741.12 1513.66 1744.18 1518.27 Q1747.26 1522.85 1747.26 1531.6 Q1747.26 1540.33 1744.18 1544.94 Q1741.12 1549.52 1735.31 1549.52 Q1729.5 1549.52 1726.42 1544.94 Q1723.37 1540.33 1723.37 1531.6 Q1723.37 1522.85 1726.42 1518.27 Q1729.5 1513.66 1735.31 1513.66 Z\" fill=\"#000000\" fill-rule=\"evenodd\" fill-opacity=\"1\" /><path clip-path=\"url(#clip370)\" d=\"M1755.47 1542.97 L1760.36 1542.97 L1760.36 1548.85 L1755.47 1548.85 L1755.47 1542.97 Z\" fill=\"#000000\" fill-rule=\"evenodd\" fill-opacity=\"1\" /><path clip-path=\"url(#clip370)\" d=\"M1769.36 1514.29 L1791.58 1514.29 L1791.58 1516.28 L1779.04 1548.85 L1774.15 1548.85 L1785.96 1518.22 L1769.36 1518.22 L1769.36 1514.29 Z\" fill=\"#000000\" fill-rule=\"evenodd\" fill-opacity=\"1\" /><path clip-path=\"url(#clip370)\" d=\"M1800.75 1514.29 L1819.11 1514.29 L1819.11 1518.22 L1805.03 1518.22 L1805.03 1526.7 Q1806.05 1526.35 1807.07 1526.19 Q1808.09 1526 1809.11 1526 Q1814.89 1526 1818.27 1529.17 Q1821.65 1532.34 1821.65 1537.76 Q1821.65 1543.34 1818.18 1546.44 Q1814.71 1549.52 1808.39 1549.52 Q1806.21 1549.52 1803.95 1549.15 Q1801.7 1548.78 1799.29 1548.04 L1799.29 1543.34 Q1801.38 1544.47 1803.6 1545.03 Q1805.82 1545.58 1808.3 1545.58 Q1812.3 1545.58 1814.64 1543.48 Q1816.98 1541.37 1816.98 1537.76 Q1816.98 1534.15 1814.64 1532.04 Q1812.3 1529.94 1808.3 1529.94 Q1806.42 1529.94 1804.55 1530.35 Q1802.7 1530.77 1800.75 1531.65 L1800.75 1514.29 Z\" fill=\"#000000\" fill-rule=\"evenodd\" fill-opacity=\"1\" /><path clip-path=\"url(#clip370)\" d=\"M2242.66 1544.91 L2250.3 1544.91 L2250.3 1518.55 L2241.99 1520.21 L2241.99 1515.95 L2250.25 1514.29 L2254.93 1514.29 L2254.93 1544.91 L2262.57 1544.91 L2262.57 1548.85 L2242.66 1548.85 L2242.66 1544.91 Z\" fill=\"#000000\" fill-rule=\"evenodd\" fill-opacity=\"1\" /><path clip-path=\"url(#clip370)\" d=\"M2272.01 1542.97 L2276.89 1542.97 L2276.89 1548.85 L2272.01 1548.85 L2272.01 1542.97 Z\" fill=\"#000000\" fill-rule=\"evenodd\" fill-opacity=\"1\" /><path clip-path=\"url(#clip370)\" d=\"M2297.08 1517.37 Q2293.47 1517.37 2291.64 1520.93 Q2289.83 1524.47 2289.83 1531.6 Q2289.83 1538.71 2291.64 1542.27 Q2293.47 1545.82 2297.08 1545.82 Q2300.71 1545.82 2302.52 1542.27 Q2304.35 1538.71 2304.35 1531.6 Q2304.35 1524.47 2302.52 1520.93 Q2300.71 1517.37 2297.08 1517.37 M2297.08 1513.66 Q2302.89 1513.66 2305.95 1518.27 Q2309.02 1522.85 2309.02 1531.6 Q2309.02 1540.33 2305.95 1544.94 Q2302.89 1549.52 2297.08 1549.52 Q2291.27 1549.52 2288.19 1544.94 Q2285.14 1540.33 2285.14 1531.6 Q2285.14 1522.85 2288.19 1518.27 Q2291.27 1513.66 2297.08 1513.66 Z\" fill=\"#000000\" fill-rule=\"evenodd\" fill-opacity=\"1\" /><path clip-path=\"url(#clip370)\" d=\"M2327.24 1517.37 Q2323.63 1517.37 2321.8 1520.93 Q2320 1524.47 2320 1531.6 Q2320 1538.71 2321.8 1542.27 Q2323.63 1545.82 2327.24 1545.82 Q2330.88 1545.82 2332.68 1542.27 Q2334.51 1538.71 2334.51 1531.6 Q2334.51 1524.47 2332.68 1520.93 Q2330.88 1517.37 2327.24 1517.37 M2327.24 1513.66 Q2333.05 1513.66 2336.11 1518.27 Q2339.19 1522.85 2339.19 1531.6 Q2339.19 1540.33 2336.11 1544.94 Q2333.05 1549.52 2327.24 1549.52 Q2321.43 1549.52 2318.35 1544.94 Q2315.3 1540.33 2315.3 1531.6 Q2315.3 1522.85 2318.35 1518.27 Q2321.43 1513.66 2327.24 1513.66 Z\" fill=\"#000000\" fill-rule=\"evenodd\" fill-opacity=\"1\" /><polyline clip-path=\"url(#clip372)\" style=\"stroke:#000000; stroke-linecap:butt; stroke-linejoin:round; stroke-width:2; stroke-opacity:0.1; fill:none\" points=\"\n  156.112,1445.72 2352.76,1445.72 \n  \"/>\n<polyline clip-path=\"url(#clip372)\" style=\"stroke:#000000; stroke-linecap:butt; stroke-linejoin:round; stroke-width:2; stroke-opacity:0.1; fill:none\" points=\"\n  156.112,1106.28 2352.76,1106.28 \n  \"/>\n<polyline clip-path=\"url(#clip372)\" style=\"stroke:#000000; stroke-linecap:butt; stroke-linejoin:round; stroke-width:2; stroke-opacity:0.1; fill:none\" points=\"\n  156.112,766.846 2352.76,766.846 \n  \"/>\n<polyline clip-path=\"url(#clip372)\" style=\"stroke:#000000; stroke-linecap:butt; stroke-linejoin:round; stroke-width:2; stroke-opacity:0.1; fill:none\" points=\"\n  156.112,427.411 2352.76,427.411 \n  \"/>\n<polyline clip-path=\"url(#clip372)\" style=\"stroke:#000000; stroke-linecap:butt; stroke-linejoin:round; stroke-width:2; stroke-opacity:0.1; fill:none\" points=\"\n  156.112,87.9763 2352.76,87.9763 \n  \"/>\n<polyline clip-path=\"url(#clip370)\" style=\"stroke:#000000; stroke-linecap:butt; stroke-linejoin:round; stroke-width:4; stroke-opacity:1; fill:none\" points=\"\n  156.112,1486.45 156.112,47.2441 \n  \"/>\n<polyline clip-path=\"url(#clip370)\" style=\"stroke:#000000; stroke-linecap:butt; stroke-linejoin:round; stroke-width:4; stroke-opacity:1; fill:none\" points=\"\n  156.112,1445.72 175.01,1445.72 \n  \"/>\n<polyline clip-path=\"url(#clip370)\" style=\"stroke:#000000; stroke-linecap:butt; stroke-linejoin:round; stroke-width:4; stroke-opacity:1; fill:none\" points=\"\n  156.112,1106.28 175.01,1106.28 \n  \"/>\n<polyline clip-path=\"url(#clip370)\" style=\"stroke:#000000; stroke-linecap:butt; stroke-linejoin:round; stroke-width:4; stroke-opacity:1; fill:none\" points=\"\n  156.112,766.846 175.01,766.846 \n  \"/>\n<polyline clip-path=\"url(#clip370)\" style=\"stroke:#000000; stroke-linecap:butt; stroke-linejoin:round; stroke-width:4; stroke-opacity:1; fill:none\" points=\"\n  156.112,427.411 175.01,427.411 \n  \"/>\n<polyline clip-path=\"url(#clip370)\" style=\"stroke:#000000; stroke-linecap:butt; stroke-linejoin:round; stroke-width:4; stroke-opacity:1; fill:none\" points=\"\n  156.112,87.9763 175.01,87.9763 \n  \"/>\n<path clip-path=\"url(#clip370)\" d=\"M62.9365 1431.51 Q59.3254 1431.51 57.4967 1435.08 Q55.6912 1438.62 55.6912 1445.75 Q55.6912 1452.86 57.4967 1456.42 Q59.3254 1459.96 62.9365 1459.96 Q66.5707 1459.96 68.3763 1456.42 Q70.205 1452.86 70.205 1445.75 Q70.205 1438.62 68.3763 1435.08 Q66.5707 1431.51 62.9365 1431.51 M62.9365 1427.81 Q68.7467 1427.81 71.8022 1432.42 Q74.8809 1437 74.8809 1445.75 Q74.8809 1454.48 71.8022 1459.08 Q68.7467 1463.67 62.9365 1463.67 Q57.1264 1463.67 54.0477 1459.08 Q50.9921 1454.48 50.9921 1445.75 Q50.9921 1437 54.0477 1432.42 Q57.1264 1427.81 62.9365 1427.81 Z\" fill=\"#000000\" fill-rule=\"evenodd\" fill-opacity=\"1\" /><path clip-path=\"url(#clip370)\" d=\"M83.0984 1457.12 L87.9827 1457.12 L87.9827 1463 L83.0984 1463 L83.0984 1457.12 Z\" fill=\"#000000\" fill-rule=\"evenodd\" fill-opacity=\"1\" /><path clip-path=\"url(#clip370)\" d=\"M108.168 1431.51 Q104.557 1431.51 102.728 1435.08 Q100.922 1438.62 100.922 1445.75 Q100.922 1452.86 102.728 1456.42 Q104.557 1459.96 108.168 1459.96 Q111.802 1459.96 113.608 1456.42 Q115.436 1452.86 115.436 1445.75 Q115.436 1438.62 113.608 1435.08 Q111.802 1431.51 108.168 1431.51 M108.168 1427.81 Q113.978 1427.81 117.033 1432.42 Q120.112 1437 120.112 1445.75 Q120.112 1454.48 117.033 1459.08 Q113.978 1463.67 108.168 1463.67 Q102.358 1463.67 99.2789 1459.08 Q96.2234 1454.48 96.2234 1445.75 Q96.2234 1437 99.2789 1432.42 Q102.358 1427.81 108.168 1427.81 Z\" fill=\"#000000\" fill-rule=\"evenodd\" fill-opacity=\"1\" /><path clip-path=\"url(#clip370)\" d=\"M63.9319 1092.08 Q60.3208 1092.08 58.4921 1095.64 Q56.6865 1099.19 56.6865 1106.32 Q56.6865 1113.42 58.4921 1116.99 Q60.3208 1120.53 63.9319 1120.53 Q67.5661 1120.53 69.3717 1116.99 Q71.2004 1113.42 71.2004 1106.32 Q71.2004 1099.19 69.3717 1095.64 Q67.5661 1092.08 63.9319 1092.08 M63.9319 1088.38 Q69.742 1088.38 72.7976 1092.98 Q75.8763 1097.57 75.8763 1106.32 Q75.8763 1115.04 72.7976 1119.65 Q69.742 1124.23 63.9319 1124.23 Q58.1217 1124.23 55.043 1119.65 Q51.9875 1115.04 51.9875 1106.32 Q51.9875 1097.57 55.043 1092.98 Q58.1217 1088.38 63.9319 1088.38 Z\" fill=\"#000000\" fill-rule=\"evenodd\" fill-opacity=\"1\" /><path clip-path=\"url(#clip370)\" d=\"M84.0938 1117.68 L88.978 1117.68 L88.978 1123.56 L84.0938 1123.56 L84.0938 1117.68 Z\" fill=\"#000000\" fill-rule=\"evenodd\" fill-opacity=\"1\" /><path clip-path=\"url(#clip370)\" d=\"M99.2095 1089 L117.566 1089 L117.566 1092.94 L103.492 1092.94 L103.492 1101.41 Q104.51 1101.06 105.529 1100.9 Q106.547 1100.71 107.566 1100.71 Q113.353 1100.71 116.733 1103.89 Q120.112 1107.06 120.112 1112.47 Q120.112 1118.05 116.64 1121.15 Q113.168 1124.23 106.848 1124.23 Q104.672 1124.23 102.404 1123.86 Q100.159 1123.49 97.7511 1122.75 L97.7511 1118.05 Q99.8345 1119.19 102.057 1119.74 Q104.279 1120.3 106.756 1120.3 Q110.76 1120.3 113.098 1118.19 Q115.436 1116.08 115.436 1112.47 Q115.436 1108.86 113.098 1106.76 Q110.76 1104.65 106.756 1104.65 Q104.881 1104.65 103.006 1105.07 Q101.154 1105.48 99.2095 1106.36 L99.2095 1089 Z\" fill=\"#000000\" fill-rule=\"evenodd\" fill-opacity=\"1\" /><path clip-path=\"url(#clip370)\" d=\"M53.7467 780.191 L61.3856 780.191 L61.3856 753.825 L53.0754 755.492 L53.0754 751.233 L61.3393 749.566 L66.0152 749.566 L66.0152 780.191 L73.654 780.191 L73.654 784.126 L53.7467 784.126 L53.7467 780.191 Z\" fill=\"#000000\" fill-rule=\"evenodd\" fill-opacity=\"1\" /><path clip-path=\"url(#clip370)\" d=\"M83.0984 778.246 L87.9827 778.246 L87.9827 784.126 L83.0984 784.126 L83.0984 778.246 Z\" fill=\"#000000\" fill-rule=\"evenodd\" fill-opacity=\"1\" /><path clip-path=\"url(#clip370)\" d=\"M108.168 752.645 Q104.557 752.645 102.728 756.209 Q100.922 759.751 100.922 766.881 Q100.922 773.987 102.728 777.552 Q104.557 781.094 108.168 781.094 Q111.802 781.094 113.608 777.552 Q115.436 773.987 115.436 766.881 Q115.436 759.751 113.608 756.209 Q111.802 752.645 108.168 752.645 M108.168 748.941 Q113.978 748.941 117.033 753.547 Q120.112 758.131 120.112 766.881 Q120.112 775.608 117.033 780.214 Q113.978 784.797 108.168 784.797 Q102.358 784.797 99.2789 780.214 Q96.2234 775.608 96.2234 766.881 Q96.2234 758.131 99.2789 753.547 Q102.358 748.941 108.168 748.941 Z\" fill=\"#000000\" fill-rule=\"evenodd\" fill-opacity=\"1\" /><path clip-path=\"url(#clip370)\" d=\"M54.7421 440.756 L62.381 440.756 L62.381 414.39 L54.0708 416.057 L54.0708 411.798 L62.3347 410.131 L67.0106 410.131 L67.0106 440.756 L74.6494 440.756 L74.6494 444.691 L54.7421 444.691 L54.7421 440.756 Z\" fill=\"#000000\" fill-rule=\"evenodd\" fill-opacity=\"1\" /><path clip-path=\"url(#clip370)\" d=\"M84.0938 438.812 L88.978 438.812 L88.978 444.691 L84.0938 444.691 L84.0938 438.812 Z\" fill=\"#000000\" fill-rule=\"evenodd\" fill-opacity=\"1\" /><path clip-path=\"url(#clip370)\" d=\"M99.2095 410.131 L117.566 410.131 L117.566 414.066 L103.492 414.066 L103.492 422.538 Q104.51 422.191 105.529 422.029 Q106.547 421.844 107.566 421.844 Q113.353 421.844 116.733 425.015 Q120.112 428.187 120.112 433.603 Q120.112 439.182 116.64 442.284 Q113.168 445.362 106.848 445.362 Q104.672 445.362 102.404 444.992 Q100.159 444.622 97.7511 443.881 L97.7511 439.182 Q99.8345 440.316 102.057 440.872 Q104.279 441.427 106.756 441.427 Q110.76 441.427 113.098 439.321 Q115.436 437.214 115.436 433.603 Q115.436 429.992 113.098 427.886 Q110.76 425.779 106.756 425.779 Q104.881 425.779 103.006 426.196 Q101.154 426.613 99.2095 427.492 L99.2095 410.131 Z\" fill=\"#000000\" fill-rule=\"evenodd\" fill-opacity=\"1\" /><path clip-path=\"url(#clip370)\" d=\"M56.9643 101.321 L73.2837 101.321 L73.2837 105.256 L51.3393 105.256 L51.3393 101.321 Q54.0014 98.5665 58.5847 93.9369 Q63.1911 89.2841 64.3717 87.9416 Q66.617 85.4184 67.4967 83.6823 Q68.3994 81.9231 68.3994 80.2333 Q68.3994 77.4786 66.455 75.7425 Q64.5337 74.0064 61.4319 74.0064 Q59.2328 74.0064 56.7791 74.7703 Q54.3486 75.5342 51.5708 77.0851 L51.5708 72.3629 Q54.3949 71.2287 56.8486 70.65 Q59.3023 70.0713 61.3393 70.0713 Q66.7096 70.0713 69.9041 72.7565 Q73.0985 75.4416 73.0985 79.9323 Q73.0985 82.062 72.2883 83.9832 Q71.5013 85.8814 69.3948 88.474 Q68.8161 89.1453 65.7143 92.3628 Q62.6124 95.5573 56.9643 101.321 Z\" fill=\"#000000\" fill-rule=\"evenodd\" fill-opacity=\"1\" /><path clip-path=\"url(#clip370)\" d=\"M83.0984 99.3767 L87.9827 99.3767 L87.9827 105.256 L83.0984 105.256 L83.0984 99.3767 Z\" fill=\"#000000\" fill-rule=\"evenodd\" fill-opacity=\"1\" /><path clip-path=\"url(#clip370)\" d=\"M108.168 73.775 Q104.557 73.775 102.728 77.3398 Q100.922 80.8814 100.922 88.011 Q100.922 95.1174 102.728 98.6822 Q104.557 102.224 108.168 102.224 Q111.802 102.224 113.608 98.6822 Q115.436 95.1174 115.436 88.011 Q115.436 80.8814 113.608 77.3398 Q111.802 73.775 108.168 73.775 M108.168 70.0713 Q113.978 70.0713 117.033 74.6777 Q120.112 79.261 120.112 88.011 Q120.112 96.7378 117.033 101.344 Q113.978 105.928 108.168 105.928 Q102.358 105.928 99.2789 101.344 Q96.2234 96.7378 96.2234 88.011 Q96.2234 79.261 99.2789 74.6777 Q102.358 70.0713 108.168 70.0713 Z\" fill=\"#000000\" fill-rule=\"evenodd\" fill-opacity=\"1\" /><polyline clip-path=\"url(#clip372)\" style=\"stroke:#009af9; stroke-linecap:butt; stroke-linejoin:round; stroke-width:4; stroke-opacity:1; fill:none\" points=\"\n  218.281,87.9763 425.512,142.286 632.742,230.539 839.973,413.834 1047.2,624.283 1254.43,780.423 1461.66,1058.76 1668.9,1160.59 1876.13,1289.58 2083.36,1391.41 \n  2290.59,1418.56 \n  \"/>\n<polyline clip-path=\"url(#clip372)\" style=\"stroke:#e26f46; stroke-linecap:butt; stroke-linejoin:round; stroke-width:4; stroke-opacity:1; fill:none\" points=\"\n  218.281,87.9763 425.512,87.9763 632.742,115.131 839.973,223.75 1047.2,569.974 1254.43,766.846 1461.66,1106.28 1668.9,1289.58 1876.13,1418.56 2083.36,1445.72 \n  2290.59,1432.14 \n  \"/>\n<polyline clip-path=\"url(#clip372)\" style=\"stroke:#3da44d; stroke-linecap:butt; stroke-linejoin:round; stroke-width:4; stroke-opacity:1; fill:none\" points=\"\n  218.281,87.9763 425.512,87.9763 632.742,94.765 839.973,108.342 1047.2,345.947 1254.43,868.676 1461.66,1276 1668.9,1425.35 1876.13,1445.72 2083.36,1445.72 \n  2290.59,1445.72 \n  \"/>\n<polyline clip-path=\"url(#clip372)\" style=\"stroke:#c271d2; stroke-linecap:butt; stroke-linejoin:round; stroke-width:4; stroke-opacity:1; fill:none\" points=\"\n  218.281,87.9763 425.512,87.9763 632.742,87.9763 839.973,87.9763 1047.2,230.539 1254.43,861.888 1461.66,1418.56 1668.9,1445.72 1876.13,1445.72 2083.36,1445.72 \n  2290.59,1445.72 \n  \"/>\n<path clip-path=\"url(#clip370)\" d=\"\nM1983.33 354.418 L2279.53 354.418 L2279.53 95.2176 L1983.33 95.2176  Z\n  \" fill=\"#ffffff\" fill-rule=\"evenodd\" fill-opacity=\"1\"/>\n<polyline clip-path=\"url(#clip370)\" style=\"stroke:#000000; stroke-linecap:butt; stroke-linejoin:round; stroke-width:4; stroke-opacity:1; fill:none\" points=\"\n  1983.33,354.418 2279.53,354.418 2279.53,95.2176 1983.33,95.2176 1983.33,354.418 \n  \"/>\n<polyline clip-path=\"url(#clip370)\" style=\"stroke:#009af9; stroke-linecap:butt; stroke-linejoin:round; stroke-width:4; stroke-opacity:1; fill:none\" points=\"\n  2007.74,147.058 2154.18,147.058 \n  \"/>\n<path clip-path=\"url(#clip370)\" d=\"M2194.19 133.852 L2182.39 152.301 L2194.19 152.301 L2194.19 133.852 M2192.97 129.778 L2198.85 129.778 L2198.85 152.301 L2203.78 152.301 L2203.78 156.189 L2198.85 156.189 L2198.85 164.338 L2194.19 164.338 L2194.19 156.189 L2178.59 156.189 L2178.59 151.676 L2192.97 129.778 Z\" fill=\"#000000\" fill-rule=\"evenodd\" fill-opacity=\"1\" /><polyline clip-path=\"url(#clip370)\" style=\"stroke:#e26f46; stroke-linecap:butt; stroke-linejoin:round; stroke-width:4; stroke-opacity:1; fill:none\" points=\"\n  2007.74,198.898 2154.18,198.898 \n  \"/>\n<path clip-path=\"url(#clip370)\" d=\"M2190.44 199.766 Q2187.11 199.766 2185.19 201.548 Q2183.29 203.33 2183.29 206.455 Q2183.29 209.58 2185.19 211.363 Q2187.11 213.145 2190.44 213.145 Q2193.78 213.145 2195.7 211.363 Q2197.62 209.557 2197.62 206.455 Q2197.62 203.33 2195.7 201.548 Q2193.8 199.766 2190.44 199.766 M2185.77 197.775 Q2182.76 197.034 2181.07 194.974 Q2179.4 192.914 2179.4 189.951 Q2179.4 185.807 2182.34 183.4 Q2185.3 180.993 2190.44 180.993 Q2195.6 180.993 2198.54 183.4 Q2201.48 185.807 2201.48 189.951 Q2201.48 192.914 2199.79 194.974 Q2198.13 197.034 2195.14 197.775 Q2198.52 198.562 2200.4 200.854 Q2202.29 203.145 2202.29 206.455 Q2202.29 211.479 2199.22 214.164 Q2196.16 216.849 2190.44 216.849 Q2184.73 216.849 2181.65 214.164 Q2178.59 211.479 2178.59 206.455 Q2178.59 203.145 2180.49 200.854 Q2182.39 198.562 2185.77 197.775 M2184.05 190.391 Q2184.05 193.076 2185.72 194.58 Q2187.41 196.085 2190.44 196.085 Q2193.45 196.085 2195.14 194.58 Q2196.85 193.076 2196.85 190.391 Q2196.85 187.705 2195.14 186.201 Q2193.45 184.696 2190.44 184.696 Q2187.41 184.696 2185.72 186.201 Q2184.05 187.705 2184.05 190.391 Z\" fill=\"#000000\" fill-rule=\"evenodd\" fill-opacity=\"1\" /><polyline clip-path=\"url(#clip370)\" style=\"stroke:#3da44d; stroke-linecap:butt; stroke-linejoin:round; stroke-width:4; stroke-opacity:1; fill:none\" points=\"\n  2007.74,250.738 2154.18,250.738 \n  \"/>\n<path clip-path=\"url(#clip370)\" d=\"M2179.26 264.082 L2186.9 264.082 L2186.9 237.717 L2178.59 239.383 L2178.59 235.124 L2186.85 233.458 L2191.53 233.458 L2191.53 264.082 L2199.17 264.082 L2199.17 268.018 L2179.26 268.018 L2179.26 264.082 Z\" fill=\"#000000\" fill-rule=\"evenodd\" fill-opacity=\"1\" /><path clip-path=\"url(#clip370)\" d=\"M2219.19 248.874 Q2216.04 248.874 2214.19 251.027 Q2212.36 253.18 2212.36 256.93 Q2212.36 260.656 2214.19 262.832 Q2216.04 264.985 2219.19 264.985 Q2222.34 264.985 2224.17 262.832 Q2226.02 260.656 2226.02 256.93 Q2226.02 253.18 2224.17 251.027 Q2222.34 248.874 2219.19 248.874 M2228.47 234.221 L2228.47 238.481 Q2226.72 237.647 2224.91 237.208 Q2223.13 236.768 2221.37 236.768 Q2216.74 236.768 2214.29 239.893 Q2211.85 243.018 2211.51 249.337 Q2212.87 247.323 2214.93 246.258 Q2216.99 245.17 2219.47 245.17 Q2224.68 245.17 2227.69 248.342 Q2230.72 251.49 2230.72 256.93 Q2230.72 262.254 2227.57 265.471 Q2224.42 268.689 2219.19 268.689 Q2213.2 268.689 2210.03 264.106 Q2206.85 259.499 2206.85 250.772 Q2206.85 242.578 2210.74 237.717 Q2214.63 232.833 2221.18 232.833 Q2222.94 232.833 2224.72 233.18 Q2226.53 233.527 2228.47 234.221 Z\" fill=\"#000000\" fill-rule=\"evenodd\" fill-opacity=\"1\" /><polyline clip-path=\"url(#clip370)\" style=\"stroke:#c271d2; stroke-linecap:butt; stroke-linejoin:round; stroke-width:4; stroke-opacity:1; fill:none\" points=\"\n  2007.74,302.578 2154.18,302.578 \n  \"/>\n<path clip-path=\"url(#clip370)\" d=\"M2194.22 301.223 Q2197.57 301.941 2199.45 304.209 Q2201.35 306.478 2201.35 309.811 Q2201.35 314.927 2197.83 317.728 Q2194.31 320.529 2187.83 320.529 Q2185.65 320.529 2183.34 320.089 Q2181.04 319.672 2178.59 318.816 L2178.59 314.302 Q2180.54 315.436 2182.85 316.015 Q2185.16 316.594 2187.69 316.594 Q2192.09 316.594 2194.38 314.858 Q2196.69 313.121 2196.69 309.811 Q2196.69 306.756 2194.54 305.043 Q2192.41 303.307 2188.59 303.307 L2184.56 303.307 L2184.56 299.464 L2188.78 299.464 Q2192.22 299.464 2194.05 298.098 Q2195.88 296.71 2195.88 294.117 Q2195.88 291.455 2193.98 290.043 Q2192.11 288.608 2188.59 288.608 Q2186.67 288.608 2184.47 289.024 Q2182.27 289.441 2179.63 290.321 L2179.63 286.154 Q2182.29 285.413 2184.61 285.043 Q2186.95 284.673 2189.01 284.673 Q2194.33 284.673 2197.43 287.103 Q2200.54 289.51 2200.54 293.631 Q2200.54 296.501 2198.89 298.492 Q2197.25 300.46 2194.22 301.223 Z\" fill=\"#000000\" fill-rule=\"evenodd\" fill-opacity=\"1\" /><path clip-path=\"url(#clip370)\" d=\"M2214.24 315.922 L2230.56 315.922 L2230.56 319.858 L2208.61 319.858 L2208.61 315.922 Q2211.28 313.168 2215.86 308.538 Q2220.47 303.885 2221.65 302.543 Q2223.89 300.02 2224.77 298.284 Q2225.67 296.524 2225.67 294.835 Q2225.67 292.08 2223.73 290.344 Q2221.81 288.608 2218.71 288.608 Q2216.51 288.608 2214.05 289.372 Q2211.62 290.135 2208.85 291.686 L2208.85 286.964 Q2211.67 285.83 2214.12 285.251 Q2216.58 284.673 2218.61 284.673 Q2223.98 284.673 2227.18 287.358 Q2230.37 290.043 2230.37 294.534 Q2230.37 296.663 2229.56 298.585 Q2228.78 300.483 2226.67 303.075 Q2226.09 303.747 2222.99 306.964 Q2219.89 310.159 2214.24 315.922 Z\" fill=\"#000000\" fill-rule=\"evenodd\" fill-opacity=\"1\" /></svg>\n",
      "text/html": [
       "<?xml version=\"1.0\" encoding=\"utf-8\"?>\n",
       "<svg xmlns=\"http://www.w3.org/2000/svg\" xmlns:xlink=\"http://www.w3.org/1999/xlink\" width=\"600\" height=\"400\" viewBox=\"0 0 2400 1600\">\n",
       "<defs>\n",
       "  <clipPath id=\"clip420\">\n",
       "    <rect x=\"0\" y=\"0\" width=\"2400\" height=\"1600\"/>\n",
       "  </clipPath>\n",
       "</defs>\n",
       "<path clip-path=\"url(#clip420)\" d=\"\n",
       "M0 1600 L2400 1600 L2400 0 L0 0  Z\n",
       "  \" fill=\"#ffffff\" fill-rule=\"evenodd\" fill-opacity=\"1\"/>\n",
       "<defs>\n",
       "  <clipPath id=\"clip421\">\n",
       "    <rect x=\"480\" y=\"0\" width=\"1681\" height=\"1600\"/>\n",
       "  </clipPath>\n",
       "</defs>\n",
       "<path clip-path=\"url(#clip420)\" d=\"\n",
       "M156.112 1486.45 L2352.76 1486.45 L2352.76 47.2441 L156.112 47.2441  Z\n",
       "  \" fill=\"#ffffff\" fill-rule=\"evenodd\" fill-opacity=\"1\"/>\n",
       "<defs>\n",
       "  <clipPath id=\"clip422\">\n",
       "    <rect x=\"156\" y=\"47\" width=\"2198\" height=\"1440\"/>\n",
       "  </clipPath>\n",
       "</defs>\n",
       "<polyline clip-path=\"url(#clip422)\" style=\"stroke:#000000; stroke-linecap:butt; stroke-linejoin:round; stroke-width:2; stroke-opacity:0.1; fill:none\" points=\"\n",
       "  218.281,1486.45 218.281,47.2441 \n",
       "  \"/>\n",
       "<polyline clip-path=\"url(#clip422)\" style=\"stroke:#000000; stroke-linecap:butt; stroke-linejoin:round; stroke-width:2; stroke-opacity:0.1; fill:none\" points=\"\n",
       "  736.358,1486.45 736.358,47.2441 \n",
       "  \"/>\n",
       "<polyline clip-path=\"url(#clip422)\" style=\"stroke:#000000; stroke-linecap:butt; stroke-linejoin:round; stroke-width:2; stroke-opacity:0.1; fill:none\" points=\"\n",
       "  1254.43,1486.45 1254.43,47.2441 \n",
       "  \"/>\n",
       "<polyline clip-path=\"url(#clip422)\" style=\"stroke:#000000; stroke-linecap:butt; stroke-linejoin:round; stroke-width:2; stroke-opacity:0.1; fill:none\" points=\"\n",
       "  1772.51,1486.45 1772.51,47.2441 \n",
       "  \"/>\n",
       "<polyline clip-path=\"url(#clip422)\" style=\"stroke:#000000; stroke-linecap:butt; stroke-linejoin:round; stroke-width:2; stroke-opacity:0.1; fill:none\" points=\"\n",
       "  2290.59,1486.45 2290.59,47.2441 \n",
       "  \"/>\n",
       "<polyline clip-path=\"url(#clip420)\" style=\"stroke:#000000; stroke-linecap:butt; stroke-linejoin:round; stroke-width:4; stroke-opacity:1; fill:none\" points=\"\n",
       "  156.112,1486.45 2352.76,1486.45 \n",
       "  \"/>\n",
       "<polyline clip-path=\"url(#clip420)\" style=\"stroke:#000000; stroke-linecap:butt; stroke-linejoin:round; stroke-width:4; stroke-opacity:1; fill:none\" points=\"\n",
       "  218.281,1486.45 218.281,1467.55 \n",
       "  \"/>\n",
       "<polyline clip-path=\"url(#clip420)\" style=\"stroke:#000000; stroke-linecap:butt; stroke-linejoin:round; stroke-width:4; stroke-opacity:1; fill:none\" points=\"\n",
       "  736.358,1486.45 736.358,1467.55 \n",
       "  \"/>\n",
       "<polyline clip-path=\"url(#clip420)\" style=\"stroke:#000000; stroke-linecap:butt; stroke-linejoin:round; stroke-width:4; stroke-opacity:1; fill:none\" points=\"\n",
       "  1254.43,1486.45 1254.43,1467.55 \n",
       "  \"/>\n",
       "<polyline clip-path=\"url(#clip420)\" style=\"stroke:#000000; stroke-linecap:butt; stroke-linejoin:round; stroke-width:4; stroke-opacity:1; fill:none\" points=\"\n",
       "  1772.51,1486.45 1772.51,1467.55 \n",
       "  \"/>\n",
       "<polyline clip-path=\"url(#clip420)\" style=\"stroke:#000000; stroke-linecap:butt; stroke-linejoin:round; stroke-width:4; stroke-opacity:1; fill:none\" points=\"\n",
       "  2290.59,1486.45 2290.59,1467.55 \n",
       "  \"/>\n",
       "<path clip-path=\"url(#clip420)\" d=\"M180.585 1517.37 Q176.974 1517.37 175.145 1520.93 Q173.339 1524.47 173.339 1531.6 Q173.339 1538.71 175.145 1542.27 Q176.974 1545.82 180.585 1545.82 Q184.219 1545.82 186.025 1542.27 Q187.853 1538.71 187.853 1531.6 Q187.853 1524.47 186.025 1520.93 Q184.219 1517.37 180.585 1517.37 M180.585 1513.66 Q186.395 1513.66 189.45 1518.27 Q192.529 1522.85 192.529 1531.6 Q192.529 1540.33 189.45 1544.94 Q186.395 1549.52 180.585 1549.52 Q174.775 1549.52 171.696 1544.94 Q168.64 1540.33 168.64 1531.6 Q168.64 1522.85 171.696 1518.27 Q174.775 1513.66 180.585 1513.66 Z\" fill=\"#000000\" fill-rule=\"evenodd\" fill-opacity=\"1\" /><path clip-path=\"url(#clip420)\" d=\"M200.747 1542.97 L205.631 1542.97 L205.631 1548.85 L200.747 1548.85 L200.747 1542.97 Z\" fill=\"#000000\" fill-rule=\"evenodd\" fill-opacity=\"1\" /><path clip-path=\"url(#clip420)\" d=\"M225.816 1517.37 Q222.205 1517.37 220.376 1520.93 Q218.571 1524.47 218.571 1531.6 Q218.571 1538.71 220.376 1542.27 Q222.205 1545.82 225.816 1545.82 Q229.45 1545.82 231.256 1542.27 Q233.084 1538.71 233.084 1531.6 Q233.084 1524.47 231.256 1520.93 Q229.45 1517.37 225.816 1517.37 M225.816 1513.66 Q231.626 1513.66 234.682 1518.27 Q237.76 1522.85 237.76 1531.6 Q237.76 1540.33 234.682 1544.94 Q231.626 1549.52 225.816 1549.52 Q220.006 1549.52 216.927 1544.94 Q213.872 1540.33 213.872 1531.6 Q213.872 1522.85 216.927 1518.27 Q220.006 1513.66 225.816 1513.66 Z\" fill=\"#000000\" fill-rule=\"evenodd\" fill-opacity=\"1\" /><path clip-path=\"url(#clip420)\" d=\"M255.978 1517.37 Q252.367 1517.37 250.538 1520.93 Q248.733 1524.47 248.733 1531.6 Q248.733 1538.71 250.538 1542.27 Q252.367 1545.82 255.978 1545.82 Q259.612 1545.82 261.418 1542.27 Q263.246 1538.71 263.246 1531.6 Q263.246 1524.47 261.418 1520.93 Q259.612 1517.37 255.978 1517.37 M255.978 1513.66 Q261.788 1513.66 264.844 1518.27 Q267.922 1522.85 267.922 1531.6 Q267.922 1540.33 264.844 1544.94 Q261.788 1549.52 255.978 1549.52 Q250.168 1549.52 247.089 1544.94 Q244.033 1540.33 244.033 1531.6 Q244.033 1522.85 247.089 1518.27 Q250.168 1513.66 255.978 1513.66 Z\" fill=\"#000000\" fill-rule=\"evenodd\" fill-opacity=\"1\" /><path clip-path=\"url(#clip420)\" d=\"M699.159 1517.37 Q695.548 1517.37 693.719 1520.93 Q691.913 1524.47 691.913 1531.6 Q691.913 1538.71 693.719 1542.27 Q695.548 1545.82 699.159 1545.82 Q702.793 1545.82 704.599 1542.27 Q706.427 1538.71 706.427 1531.6 Q706.427 1524.47 704.599 1520.93 Q702.793 1517.37 699.159 1517.37 M699.159 1513.66 Q704.969 1513.66 708.024 1518.27 Q711.103 1522.85 711.103 1531.6 Q711.103 1540.33 708.024 1544.94 Q704.969 1549.52 699.159 1549.52 Q693.349 1549.52 690.27 1544.94 Q687.214 1540.33 687.214 1531.6 Q687.214 1522.85 690.27 1518.27 Q693.349 1513.66 699.159 1513.66 Z\" fill=\"#000000\" fill-rule=\"evenodd\" fill-opacity=\"1\" /><path clip-path=\"url(#clip420)\" d=\"M719.321 1542.97 L724.205 1542.97 L724.205 1548.85 L719.321 1548.85 L719.321 1542.97 Z\" fill=\"#000000\" fill-rule=\"evenodd\" fill-opacity=\"1\" /><path clip-path=\"url(#clip420)\" d=\"M738.418 1544.91 L754.737 1544.91 L754.737 1548.85 L732.793 1548.85 L732.793 1544.91 Q735.455 1542.16 740.038 1537.53 Q744.645 1532.88 745.825 1531.53 Q748.071 1529.01 748.95 1527.27 Q749.853 1525.51 749.853 1523.82 Q749.853 1521.07 747.909 1519.33 Q745.987 1517.6 742.885 1517.6 Q740.686 1517.6 738.233 1518.36 Q735.802 1519.13 733.024 1520.68 L733.024 1515.95 Q735.848 1514.82 738.302 1514.24 Q740.756 1513.66 742.793 1513.66 Q748.163 1513.66 751.358 1516.35 Q754.552 1519.03 754.552 1523.52 Q754.552 1525.65 753.742 1527.57 Q752.955 1529.47 750.848 1532.07 Q750.27 1532.74 747.168 1535.95 Q744.066 1539.15 738.418 1544.91 Z\" fill=\"#000000\" fill-rule=\"evenodd\" fill-opacity=\"1\" /><path clip-path=\"url(#clip420)\" d=\"M764.598 1514.29 L782.955 1514.29 L782.955 1518.22 L768.881 1518.22 L768.881 1526.7 Q769.899 1526.35 770.918 1526.19 Q771.936 1526 772.955 1526 Q778.742 1526 782.121 1529.17 Q785.501 1532.34 785.501 1537.76 Q785.501 1543.34 782.029 1546.44 Q778.557 1549.52 772.237 1549.52 Q770.061 1549.52 767.793 1549.15 Q765.547 1548.78 763.14 1548.04 L763.14 1543.34 Q765.223 1544.47 767.445 1545.03 Q769.668 1545.58 772.144 1545.58 Q776.149 1545.58 778.487 1543.48 Q780.825 1541.37 780.825 1537.76 Q780.825 1534.15 778.487 1532.04 Q776.149 1529.94 772.144 1529.94 Q770.27 1529.94 768.395 1530.35 Q766.543 1530.77 764.598 1531.65 L764.598 1514.29 Z\" fill=\"#000000\" fill-rule=\"evenodd\" fill-opacity=\"1\" /><path clip-path=\"url(#clip420)\" d=\"M1216.74 1517.37 Q1213.13 1517.37 1211.3 1520.93 Q1209.49 1524.47 1209.49 1531.6 Q1209.49 1538.71 1211.3 1542.27 Q1213.13 1545.82 1216.74 1545.82 Q1220.37 1545.82 1222.18 1542.27 Q1224.01 1538.71 1224.01 1531.6 Q1224.01 1524.47 1222.18 1520.93 Q1220.37 1517.37 1216.74 1517.37 M1216.74 1513.66 Q1222.55 1513.66 1225.6 1518.27 Q1228.68 1522.85 1228.68 1531.6 Q1228.68 1540.33 1225.6 1544.94 Q1222.55 1549.52 1216.74 1549.52 Q1210.93 1549.52 1207.85 1544.94 Q1204.79 1540.33 1204.79 1531.6 Q1204.79 1522.85 1207.85 1518.27 Q1210.93 1513.66 1216.74 1513.66 Z\" fill=\"#000000\" fill-rule=\"evenodd\" fill-opacity=\"1\" /><path clip-path=\"url(#clip420)\" d=\"M1236.9 1542.97 L1241.78 1542.97 L1241.78 1548.85 L1236.9 1548.85 L1236.9 1542.97 Z\" fill=\"#000000\" fill-rule=\"evenodd\" fill-opacity=\"1\" /><path clip-path=\"url(#clip420)\" d=\"M1252.02 1514.29 L1270.37 1514.29 L1270.37 1518.22 L1256.3 1518.22 L1256.3 1526.7 Q1257.32 1526.35 1258.33 1526.19 Q1259.35 1526 1260.37 1526 Q1266.16 1526 1269.54 1529.17 Q1272.92 1532.34 1272.92 1537.76 Q1272.92 1543.34 1269.45 1546.44 Q1265.97 1549.52 1259.65 1549.52 Q1257.48 1549.52 1255.21 1549.15 Q1252.96 1548.78 1250.56 1548.04 L1250.56 1543.34 Q1252.64 1544.47 1254.86 1545.03 Q1257.08 1545.58 1259.56 1545.58 Q1263.57 1545.58 1265.9 1543.48 Q1268.24 1541.37 1268.24 1537.76 Q1268.24 1534.15 1265.9 1532.04 Q1263.57 1529.94 1259.56 1529.94 Q1257.69 1529.94 1255.81 1530.35 Q1253.96 1530.77 1252.02 1531.65 L1252.02 1514.29 Z\" fill=\"#000000\" fill-rule=\"evenodd\" fill-opacity=\"1\" /><path clip-path=\"url(#clip420)\" d=\"M1292.13 1517.37 Q1288.52 1517.37 1286.69 1520.93 Q1284.89 1524.47 1284.89 1531.6 Q1284.89 1538.71 1286.69 1542.27 Q1288.52 1545.82 1292.13 1545.82 Q1295.76 1545.82 1297.57 1542.27 Q1299.4 1538.71 1299.4 1531.6 Q1299.4 1524.47 1297.57 1520.93 Q1295.76 1517.37 1292.13 1517.37 M1292.13 1513.66 Q1297.94 1513.66 1301 1518.27 Q1304.07 1522.85 1304.07 1531.6 Q1304.07 1540.33 1301 1544.94 Q1297.94 1549.52 1292.13 1549.52 Q1286.32 1549.52 1283.24 1544.94 Q1280.19 1540.33 1280.19 1531.6 Q1280.19 1522.85 1283.24 1518.27 Q1286.32 1513.66 1292.13 1513.66 Z\" fill=\"#000000\" fill-rule=\"evenodd\" fill-opacity=\"1\" /><path clip-path=\"url(#clip420)\" d=\"M1735.31 1517.37 Q1731.7 1517.37 1729.87 1520.93 Q1728.07 1524.47 1728.07 1531.6 Q1728.07 1538.71 1729.87 1542.27 Q1731.7 1545.82 1735.31 1545.82 Q1738.95 1545.82 1740.75 1542.27 Q1742.58 1538.71 1742.58 1531.6 Q1742.58 1524.47 1740.75 1520.93 Q1738.95 1517.37 1735.31 1517.37 M1735.31 1513.66 Q1741.12 1513.66 1744.18 1518.27 Q1747.26 1522.85 1747.26 1531.6 Q1747.26 1540.33 1744.18 1544.94 Q1741.12 1549.52 1735.31 1549.52 Q1729.5 1549.52 1726.42 1544.94 Q1723.37 1540.33 1723.37 1531.6 Q1723.37 1522.85 1726.42 1518.27 Q1729.5 1513.66 1735.31 1513.66 Z\" fill=\"#000000\" fill-rule=\"evenodd\" fill-opacity=\"1\" /><path clip-path=\"url(#clip420)\" d=\"M1755.47 1542.97 L1760.36 1542.97 L1760.36 1548.85 L1755.47 1548.85 L1755.47 1542.97 Z\" fill=\"#000000\" fill-rule=\"evenodd\" fill-opacity=\"1\" /><path clip-path=\"url(#clip420)\" d=\"M1769.36 1514.29 L1791.58 1514.29 L1791.58 1516.28 L1779.04 1548.85 L1774.15 1548.85 L1785.96 1518.22 L1769.36 1518.22 L1769.36 1514.29 Z\" fill=\"#000000\" fill-rule=\"evenodd\" fill-opacity=\"1\" /><path clip-path=\"url(#clip420)\" d=\"M1800.75 1514.29 L1819.11 1514.29 L1819.11 1518.22 L1805.03 1518.22 L1805.03 1526.7 Q1806.05 1526.35 1807.07 1526.19 Q1808.09 1526 1809.11 1526 Q1814.89 1526 1818.27 1529.17 Q1821.65 1532.34 1821.65 1537.76 Q1821.65 1543.34 1818.18 1546.44 Q1814.71 1549.52 1808.39 1549.52 Q1806.21 1549.52 1803.95 1549.15 Q1801.7 1548.78 1799.29 1548.04 L1799.29 1543.34 Q1801.38 1544.47 1803.6 1545.03 Q1805.82 1545.58 1808.3 1545.58 Q1812.3 1545.58 1814.64 1543.48 Q1816.98 1541.37 1816.98 1537.76 Q1816.98 1534.15 1814.64 1532.04 Q1812.3 1529.94 1808.3 1529.94 Q1806.42 1529.94 1804.55 1530.35 Q1802.7 1530.77 1800.75 1531.65 L1800.75 1514.29 Z\" fill=\"#000000\" fill-rule=\"evenodd\" fill-opacity=\"1\" /><path clip-path=\"url(#clip420)\" d=\"M2242.66 1544.91 L2250.3 1544.91 L2250.3 1518.55 L2241.99 1520.21 L2241.99 1515.95 L2250.25 1514.29 L2254.93 1514.29 L2254.93 1544.91 L2262.57 1544.91 L2262.57 1548.85 L2242.66 1548.85 L2242.66 1544.91 Z\" fill=\"#000000\" fill-rule=\"evenodd\" fill-opacity=\"1\" /><path clip-path=\"url(#clip420)\" d=\"M2272.01 1542.97 L2276.89 1542.97 L2276.89 1548.85 L2272.01 1548.85 L2272.01 1542.97 Z\" fill=\"#000000\" fill-rule=\"evenodd\" fill-opacity=\"1\" /><path clip-path=\"url(#clip420)\" d=\"M2297.08 1517.37 Q2293.47 1517.37 2291.64 1520.93 Q2289.83 1524.47 2289.83 1531.6 Q2289.83 1538.71 2291.64 1542.27 Q2293.47 1545.82 2297.08 1545.82 Q2300.71 1545.82 2302.52 1542.27 Q2304.35 1538.71 2304.35 1531.6 Q2304.35 1524.47 2302.52 1520.93 Q2300.71 1517.37 2297.08 1517.37 M2297.08 1513.66 Q2302.89 1513.66 2305.95 1518.27 Q2309.02 1522.85 2309.02 1531.6 Q2309.02 1540.33 2305.95 1544.94 Q2302.89 1549.52 2297.08 1549.52 Q2291.27 1549.52 2288.19 1544.94 Q2285.14 1540.33 2285.14 1531.6 Q2285.14 1522.85 2288.19 1518.27 Q2291.27 1513.66 2297.08 1513.66 Z\" fill=\"#000000\" fill-rule=\"evenodd\" fill-opacity=\"1\" /><path clip-path=\"url(#clip420)\" d=\"M2327.24 1517.37 Q2323.63 1517.37 2321.8 1520.93 Q2320 1524.47 2320 1531.6 Q2320 1538.71 2321.8 1542.27 Q2323.63 1545.82 2327.24 1545.82 Q2330.88 1545.82 2332.68 1542.27 Q2334.51 1538.71 2334.51 1531.6 Q2334.51 1524.47 2332.68 1520.93 Q2330.88 1517.37 2327.24 1517.37 M2327.24 1513.66 Q2333.05 1513.66 2336.11 1518.27 Q2339.19 1522.85 2339.19 1531.6 Q2339.19 1540.33 2336.11 1544.94 Q2333.05 1549.52 2327.24 1549.52 Q2321.43 1549.52 2318.35 1544.94 Q2315.3 1540.33 2315.3 1531.6 Q2315.3 1522.85 2318.35 1518.27 Q2321.43 1513.66 2327.24 1513.66 Z\" fill=\"#000000\" fill-rule=\"evenodd\" fill-opacity=\"1\" /><polyline clip-path=\"url(#clip422)\" style=\"stroke:#000000; stroke-linecap:butt; stroke-linejoin:round; stroke-width:2; stroke-opacity:0.1; fill:none\" points=\"\n",
       "  156.112,1445.72 2352.76,1445.72 \n",
       "  \"/>\n",
       "<polyline clip-path=\"url(#clip422)\" style=\"stroke:#000000; stroke-linecap:butt; stroke-linejoin:round; stroke-width:2; stroke-opacity:0.1; fill:none\" points=\"\n",
       "  156.112,1106.28 2352.76,1106.28 \n",
       "  \"/>\n",
       "<polyline clip-path=\"url(#clip422)\" style=\"stroke:#000000; stroke-linecap:butt; stroke-linejoin:round; stroke-width:2; stroke-opacity:0.1; fill:none\" points=\"\n",
       "  156.112,766.846 2352.76,766.846 \n",
       "  \"/>\n",
       "<polyline clip-path=\"url(#clip422)\" style=\"stroke:#000000; stroke-linecap:butt; stroke-linejoin:round; stroke-width:2; stroke-opacity:0.1; fill:none\" points=\"\n",
       "  156.112,427.411 2352.76,427.411 \n",
       "  \"/>\n",
       "<polyline clip-path=\"url(#clip422)\" style=\"stroke:#000000; stroke-linecap:butt; stroke-linejoin:round; stroke-width:2; stroke-opacity:0.1; fill:none\" points=\"\n",
       "  156.112,87.9763 2352.76,87.9763 \n",
       "  \"/>\n",
       "<polyline clip-path=\"url(#clip420)\" style=\"stroke:#000000; stroke-linecap:butt; stroke-linejoin:round; stroke-width:4; stroke-opacity:1; fill:none\" points=\"\n",
       "  156.112,1486.45 156.112,47.2441 \n",
       "  \"/>\n",
       "<polyline clip-path=\"url(#clip420)\" style=\"stroke:#000000; stroke-linecap:butt; stroke-linejoin:round; stroke-width:4; stroke-opacity:1; fill:none\" points=\"\n",
       "  156.112,1445.72 175.01,1445.72 \n",
       "  \"/>\n",
       "<polyline clip-path=\"url(#clip420)\" style=\"stroke:#000000; stroke-linecap:butt; stroke-linejoin:round; stroke-width:4; stroke-opacity:1; fill:none\" points=\"\n",
       "  156.112,1106.28 175.01,1106.28 \n",
       "  \"/>\n",
       "<polyline clip-path=\"url(#clip420)\" style=\"stroke:#000000; stroke-linecap:butt; stroke-linejoin:round; stroke-width:4; stroke-opacity:1; fill:none\" points=\"\n",
       "  156.112,766.846 175.01,766.846 \n",
       "  \"/>\n",
       "<polyline clip-path=\"url(#clip420)\" style=\"stroke:#000000; stroke-linecap:butt; stroke-linejoin:round; stroke-width:4; stroke-opacity:1; fill:none\" points=\"\n",
       "  156.112,427.411 175.01,427.411 \n",
       "  \"/>\n",
       "<polyline clip-path=\"url(#clip420)\" style=\"stroke:#000000; stroke-linecap:butt; stroke-linejoin:round; stroke-width:4; stroke-opacity:1; fill:none\" points=\"\n",
       "  156.112,87.9763 175.01,87.9763 \n",
       "  \"/>\n",
       "<path clip-path=\"url(#clip420)\" d=\"M62.9365 1431.51 Q59.3254 1431.51 57.4967 1435.08 Q55.6912 1438.62 55.6912 1445.75 Q55.6912 1452.86 57.4967 1456.42 Q59.3254 1459.96 62.9365 1459.96 Q66.5707 1459.96 68.3763 1456.42 Q70.205 1452.86 70.205 1445.75 Q70.205 1438.62 68.3763 1435.08 Q66.5707 1431.51 62.9365 1431.51 M62.9365 1427.81 Q68.7467 1427.81 71.8022 1432.42 Q74.8809 1437 74.8809 1445.75 Q74.8809 1454.48 71.8022 1459.08 Q68.7467 1463.67 62.9365 1463.67 Q57.1264 1463.67 54.0477 1459.08 Q50.9921 1454.48 50.9921 1445.75 Q50.9921 1437 54.0477 1432.42 Q57.1264 1427.81 62.9365 1427.81 Z\" fill=\"#000000\" fill-rule=\"evenodd\" fill-opacity=\"1\" /><path clip-path=\"url(#clip420)\" d=\"M83.0984 1457.12 L87.9827 1457.12 L87.9827 1463 L83.0984 1463 L83.0984 1457.12 Z\" fill=\"#000000\" fill-rule=\"evenodd\" fill-opacity=\"1\" /><path clip-path=\"url(#clip420)\" d=\"M108.168 1431.51 Q104.557 1431.51 102.728 1435.08 Q100.922 1438.62 100.922 1445.75 Q100.922 1452.86 102.728 1456.42 Q104.557 1459.96 108.168 1459.96 Q111.802 1459.96 113.608 1456.42 Q115.436 1452.86 115.436 1445.75 Q115.436 1438.62 113.608 1435.08 Q111.802 1431.51 108.168 1431.51 M108.168 1427.81 Q113.978 1427.81 117.033 1432.42 Q120.112 1437 120.112 1445.75 Q120.112 1454.48 117.033 1459.08 Q113.978 1463.67 108.168 1463.67 Q102.358 1463.67 99.2789 1459.08 Q96.2234 1454.48 96.2234 1445.75 Q96.2234 1437 99.2789 1432.42 Q102.358 1427.81 108.168 1427.81 Z\" fill=\"#000000\" fill-rule=\"evenodd\" fill-opacity=\"1\" /><path clip-path=\"url(#clip420)\" d=\"M63.9319 1092.08 Q60.3208 1092.08 58.4921 1095.64 Q56.6865 1099.19 56.6865 1106.32 Q56.6865 1113.42 58.4921 1116.99 Q60.3208 1120.53 63.9319 1120.53 Q67.5661 1120.53 69.3717 1116.99 Q71.2004 1113.42 71.2004 1106.32 Q71.2004 1099.19 69.3717 1095.64 Q67.5661 1092.08 63.9319 1092.08 M63.9319 1088.38 Q69.742 1088.38 72.7976 1092.98 Q75.8763 1097.57 75.8763 1106.32 Q75.8763 1115.04 72.7976 1119.65 Q69.742 1124.23 63.9319 1124.23 Q58.1217 1124.23 55.043 1119.65 Q51.9875 1115.04 51.9875 1106.32 Q51.9875 1097.57 55.043 1092.98 Q58.1217 1088.38 63.9319 1088.38 Z\" fill=\"#000000\" fill-rule=\"evenodd\" fill-opacity=\"1\" /><path clip-path=\"url(#clip420)\" d=\"M84.0938 1117.68 L88.978 1117.68 L88.978 1123.56 L84.0938 1123.56 L84.0938 1117.68 Z\" fill=\"#000000\" fill-rule=\"evenodd\" fill-opacity=\"1\" /><path clip-path=\"url(#clip420)\" d=\"M99.2095 1089 L117.566 1089 L117.566 1092.94 L103.492 1092.94 L103.492 1101.41 Q104.51 1101.06 105.529 1100.9 Q106.547 1100.71 107.566 1100.71 Q113.353 1100.71 116.733 1103.89 Q120.112 1107.06 120.112 1112.47 Q120.112 1118.05 116.64 1121.15 Q113.168 1124.23 106.848 1124.23 Q104.672 1124.23 102.404 1123.86 Q100.159 1123.49 97.7511 1122.75 L97.7511 1118.05 Q99.8345 1119.19 102.057 1119.74 Q104.279 1120.3 106.756 1120.3 Q110.76 1120.3 113.098 1118.19 Q115.436 1116.08 115.436 1112.47 Q115.436 1108.86 113.098 1106.76 Q110.76 1104.65 106.756 1104.65 Q104.881 1104.65 103.006 1105.07 Q101.154 1105.48 99.2095 1106.36 L99.2095 1089 Z\" fill=\"#000000\" fill-rule=\"evenodd\" fill-opacity=\"1\" /><path clip-path=\"url(#clip420)\" d=\"M53.7467 780.191 L61.3856 780.191 L61.3856 753.825 L53.0754 755.492 L53.0754 751.233 L61.3393 749.566 L66.0152 749.566 L66.0152 780.191 L73.654 780.191 L73.654 784.126 L53.7467 784.126 L53.7467 780.191 Z\" fill=\"#000000\" fill-rule=\"evenodd\" fill-opacity=\"1\" /><path clip-path=\"url(#clip420)\" d=\"M83.0984 778.246 L87.9827 778.246 L87.9827 784.126 L83.0984 784.126 L83.0984 778.246 Z\" fill=\"#000000\" fill-rule=\"evenodd\" fill-opacity=\"1\" /><path clip-path=\"url(#clip420)\" d=\"M108.168 752.645 Q104.557 752.645 102.728 756.209 Q100.922 759.751 100.922 766.881 Q100.922 773.987 102.728 777.552 Q104.557 781.094 108.168 781.094 Q111.802 781.094 113.608 777.552 Q115.436 773.987 115.436 766.881 Q115.436 759.751 113.608 756.209 Q111.802 752.645 108.168 752.645 M108.168 748.941 Q113.978 748.941 117.033 753.547 Q120.112 758.131 120.112 766.881 Q120.112 775.608 117.033 780.214 Q113.978 784.797 108.168 784.797 Q102.358 784.797 99.2789 780.214 Q96.2234 775.608 96.2234 766.881 Q96.2234 758.131 99.2789 753.547 Q102.358 748.941 108.168 748.941 Z\" fill=\"#000000\" fill-rule=\"evenodd\" fill-opacity=\"1\" /><path clip-path=\"url(#clip420)\" d=\"M54.7421 440.756 L62.381 440.756 L62.381 414.39 L54.0708 416.057 L54.0708 411.798 L62.3347 410.131 L67.0106 410.131 L67.0106 440.756 L74.6494 440.756 L74.6494 444.691 L54.7421 444.691 L54.7421 440.756 Z\" fill=\"#000000\" fill-rule=\"evenodd\" fill-opacity=\"1\" /><path clip-path=\"url(#clip420)\" d=\"M84.0938 438.812 L88.978 438.812 L88.978 444.691 L84.0938 444.691 L84.0938 438.812 Z\" fill=\"#000000\" fill-rule=\"evenodd\" fill-opacity=\"1\" /><path clip-path=\"url(#clip420)\" d=\"M99.2095 410.131 L117.566 410.131 L117.566 414.066 L103.492 414.066 L103.492 422.538 Q104.51 422.191 105.529 422.029 Q106.547 421.844 107.566 421.844 Q113.353 421.844 116.733 425.015 Q120.112 428.187 120.112 433.603 Q120.112 439.182 116.64 442.284 Q113.168 445.362 106.848 445.362 Q104.672 445.362 102.404 444.992 Q100.159 444.622 97.7511 443.881 L97.7511 439.182 Q99.8345 440.316 102.057 440.872 Q104.279 441.427 106.756 441.427 Q110.76 441.427 113.098 439.321 Q115.436 437.214 115.436 433.603 Q115.436 429.992 113.098 427.886 Q110.76 425.779 106.756 425.779 Q104.881 425.779 103.006 426.196 Q101.154 426.613 99.2095 427.492 L99.2095 410.131 Z\" fill=\"#000000\" fill-rule=\"evenodd\" fill-opacity=\"1\" /><path clip-path=\"url(#clip420)\" d=\"M56.9643 101.321 L73.2837 101.321 L73.2837 105.256 L51.3393 105.256 L51.3393 101.321 Q54.0014 98.5665 58.5847 93.9369 Q63.1911 89.2841 64.3717 87.9416 Q66.617 85.4184 67.4967 83.6823 Q68.3994 81.9231 68.3994 80.2333 Q68.3994 77.4786 66.455 75.7425 Q64.5337 74.0064 61.4319 74.0064 Q59.2328 74.0064 56.7791 74.7703 Q54.3486 75.5342 51.5708 77.0851 L51.5708 72.3629 Q54.3949 71.2287 56.8486 70.65 Q59.3023 70.0713 61.3393 70.0713 Q66.7096 70.0713 69.9041 72.7565 Q73.0985 75.4416 73.0985 79.9323 Q73.0985 82.062 72.2883 83.9832 Q71.5013 85.8814 69.3948 88.474 Q68.8161 89.1453 65.7143 92.3628 Q62.6124 95.5573 56.9643 101.321 Z\" fill=\"#000000\" fill-rule=\"evenodd\" fill-opacity=\"1\" /><path clip-path=\"url(#clip420)\" d=\"M83.0984 99.3767 L87.9827 99.3767 L87.9827 105.256 L83.0984 105.256 L83.0984 99.3767 Z\" fill=\"#000000\" fill-rule=\"evenodd\" fill-opacity=\"1\" /><path clip-path=\"url(#clip420)\" d=\"M108.168 73.775 Q104.557 73.775 102.728 77.3398 Q100.922 80.8814 100.922 88.011 Q100.922 95.1174 102.728 98.6822 Q104.557 102.224 108.168 102.224 Q111.802 102.224 113.608 98.6822 Q115.436 95.1174 115.436 88.011 Q115.436 80.8814 113.608 77.3398 Q111.802 73.775 108.168 73.775 M108.168 70.0713 Q113.978 70.0713 117.033 74.6777 Q120.112 79.261 120.112 88.011 Q120.112 96.7378 117.033 101.344 Q113.978 105.928 108.168 105.928 Q102.358 105.928 99.2789 101.344 Q96.2234 96.7378 96.2234 88.011 Q96.2234 79.261 99.2789 74.6777 Q102.358 70.0713 108.168 70.0713 Z\" fill=\"#000000\" fill-rule=\"evenodd\" fill-opacity=\"1\" /><polyline clip-path=\"url(#clip422)\" style=\"stroke:#009af9; stroke-linecap:butt; stroke-linejoin:round; stroke-width:4; stroke-opacity:1; fill:none\" points=\"\n",
       "  218.281,87.9763 425.512,142.286 632.742,230.539 839.973,413.834 1047.2,624.283 1254.43,780.423 1461.66,1058.76 1668.9,1160.59 1876.13,1289.58 2083.36,1391.41 \n",
       "  2290.59,1418.56 \n",
       "  \"/>\n",
       "<polyline clip-path=\"url(#clip422)\" style=\"stroke:#e26f46; stroke-linecap:butt; stroke-linejoin:round; stroke-width:4; stroke-opacity:1; fill:none\" points=\"\n",
       "  218.281,87.9763 425.512,87.9763 632.742,115.131 839.973,223.75 1047.2,569.974 1254.43,766.846 1461.66,1106.28 1668.9,1289.58 1876.13,1418.56 2083.36,1445.72 \n",
       "  2290.59,1432.14 \n",
       "  \"/>\n",
       "<polyline clip-path=\"url(#clip422)\" style=\"stroke:#3da44d; stroke-linecap:butt; stroke-linejoin:round; stroke-width:4; stroke-opacity:1; fill:none\" points=\"\n",
       "  218.281,87.9763 425.512,87.9763 632.742,94.765 839.973,108.342 1047.2,345.947 1254.43,868.676 1461.66,1276 1668.9,1425.35 1876.13,1445.72 2083.36,1445.72 \n",
       "  2290.59,1445.72 \n",
       "  \"/>\n",
       "<polyline clip-path=\"url(#clip422)\" style=\"stroke:#c271d2; stroke-linecap:butt; stroke-linejoin:round; stroke-width:4; stroke-opacity:1; fill:none\" points=\"\n",
       "  218.281,87.9763 425.512,87.9763 632.742,87.9763 839.973,87.9763 1047.2,230.539 1254.43,861.888 1461.66,1418.56 1668.9,1445.72 1876.13,1445.72 2083.36,1445.72 \n",
       "  2290.59,1445.72 \n",
       "  \"/>\n",
       "<path clip-path=\"url(#clip420)\" d=\"\n",
       "M1983.33 354.418 L2279.53 354.418 L2279.53 95.2176 L1983.33 95.2176  Z\n",
       "  \" fill=\"#ffffff\" fill-rule=\"evenodd\" fill-opacity=\"1\"/>\n",
       "<polyline clip-path=\"url(#clip420)\" style=\"stroke:#000000; stroke-linecap:butt; stroke-linejoin:round; stroke-width:4; stroke-opacity:1; fill:none\" points=\"\n",
       "  1983.33,354.418 2279.53,354.418 2279.53,95.2176 1983.33,95.2176 1983.33,354.418 \n",
       "  \"/>\n",
       "<polyline clip-path=\"url(#clip420)\" style=\"stroke:#009af9; stroke-linecap:butt; stroke-linejoin:round; stroke-width:4; stroke-opacity:1; fill:none\" points=\"\n",
       "  2007.74,147.058 2154.18,147.058 \n",
       "  \"/>\n",
       "<path clip-path=\"url(#clip420)\" d=\"M2194.19 133.852 L2182.39 152.301 L2194.19 152.301 L2194.19 133.852 M2192.97 129.778 L2198.85 129.778 L2198.85 152.301 L2203.78 152.301 L2203.78 156.189 L2198.85 156.189 L2198.85 164.338 L2194.19 164.338 L2194.19 156.189 L2178.59 156.189 L2178.59 151.676 L2192.97 129.778 Z\" fill=\"#000000\" fill-rule=\"evenodd\" fill-opacity=\"1\" /><polyline clip-path=\"url(#clip420)\" style=\"stroke:#e26f46; stroke-linecap:butt; stroke-linejoin:round; stroke-width:4; stroke-opacity:1; fill:none\" points=\"\n",
       "  2007.74,198.898 2154.18,198.898 \n",
       "  \"/>\n",
       "<path clip-path=\"url(#clip420)\" d=\"M2190.44 199.766 Q2187.11 199.766 2185.19 201.548 Q2183.29 203.33 2183.29 206.455 Q2183.29 209.58 2185.19 211.363 Q2187.11 213.145 2190.44 213.145 Q2193.78 213.145 2195.7 211.363 Q2197.62 209.557 2197.62 206.455 Q2197.62 203.33 2195.7 201.548 Q2193.8 199.766 2190.44 199.766 M2185.77 197.775 Q2182.76 197.034 2181.07 194.974 Q2179.4 192.914 2179.4 189.951 Q2179.4 185.807 2182.34 183.4 Q2185.3 180.993 2190.44 180.993 Q2195.6 180.993 2198.54 183.4 Q2201.48 185.807 2201.48 189.951 Q2201.48 192.914 2199.79 194.974 Q2198.13 197.034 2195.14 197.775 Q2198.52 198.562 2200.4 200.854 Q2202.29 203.145 2202.29 206.455 Q2202.29 211.479 2199.22 214.164 Q2196.16 216.849 2190.44 216.849 Q2184.73 216.849 2181.65 214.164 Q2178.59 211.479 2178.59 206.455 Q2178.59 203.145 2180.49 200.854 Q2182.39 198.562 2185.77 197.775 M2184.05 190.391 Q2184.05 193.076 2185.72 194.58 Q2187.41 196.085 2190.44 196.085 Q2193.45 196.085 2195.14 194.58 Q2196.85 193.076 2196.85 190.391 Q2196.85 187.705 2195.14 186.201 Q2193.45 184.696 2190.44 184.696 Q2187.41 184.696 2185.72 186.201 Q2184.05 187.705 2184.05 190.391 Z\" fill=\"#000000\" fill-rule=\"evenodd\" fill-opacity=\"1\" /><polyline clip-path=\"url(#clip420)\" style=\"stroke:#3da44d; stroke-linecap:butt; stroke-linejoin:round; stroke-width:4; stroke-opacity:1; fill:none\" points=\"\n",
       "  2007.74,250.738 2154.18,250.738 \n",
       "  \"/>\n",
       "<path clip-path=\"url(#clip420)\" d=\"M2179.26 264.082 L2186.9 264.082 L2186.9 237.717 L2178.59 239.383 L2178.59 235.124 L2186.85 233.458 L2191.53 233.458 L2191.53 264.082 L2199.17 264.082 L2199.17 268.018 L2179.26 268.018 L2179.26 264.082 Z\" fill=\"#000000\" fill-rule=\"evenodd\" fill-opacity=\"1\" /><path clip-path=\"url(#clip420)\" d=\"M2219.19 248.874 Q2216.04 248.874 2214.19 251.027 Q2212.36 253.18 2212.36 256.93 Q2212.36 260.656 2214.19 262.832 Q2216.04 264.985 2219.19 264.985 Q2222.34 264.985 2224.17 262.832 Q2226.02 260.656 2226.02 256.93 Q2226.02 253.18 2224.17 251.027 Q2222.34 248.874 2219.19 248.874 M2228.47 234.221 L2228.47 238.481 Q2226.72 237.647 2224.91 237.208 Q2223.13 236.768 2221.37 236.768 Q2216.74 236.768 2214.29 239.893 Q2211.85 243.018 2211.51 249.337 Q2212.87 247.323 2214.93 246.258 Q2216.99 245.17 2219.47 245.17 Q2224.68 245.17 2227.69 248.342 Q2230.72 251.49 2230.72 256.93 Q2230.72 262.254 2227.57 265.471 Q2224.42 268.689 2219.19 268.689 Q2213.2 268.689 2210.03 264.106 Q2206.85 259.499 2206.85 250.772 Q2206.85 242.578 2210.74 237.717 Q2214.63 232.833 2221.18 232.833 Q2222.94 232.833 2224.72 233.18 Q2226.53 233.527 2228.47 234.221 Z\" fill=\"#000000\" fill-rule=\"evenodd\" fill-opacity=\"1\" /><polyline clip-path=\"url(#clip420)\" style=\"stroke:#c271d2; stroke-linecap:butt; stroke-linejoin:round; stroke-width:4; stroke-opacity:1; fill:none\" points=\"\n",
       "  2007.74,302.578 2154.18,302.578 \n",
       "  \"/>\n",
       "<path clip-path=\"url(#clip420)\" d=\"M2194.22 301.223 Q2197.57 301.941 2199.45 304.209 Q2201.35 306.478 2201.35 309.811 Q2201.35 314.927 2197.83 317.728 Q2194.31 320.529 2187.83 320.529 Q2185.65 320.529 2183.34 320.089 Q2181.04 319.672 2178.59 318.816 L2178.59 314.302 Q2180.54 315.436 2182.85 316.015 Q2185.16 316.594 2187.69 316.594 Q2192.09 316.594 2194.38 314.858 Q2196.69 313.121 2196.69 309.811 Q2196.69 306.756 2194.54 305.043 Q2192.41 303.307 2188.59 303.307 L2184.56 303.307 L2184.56 299.464 L2188.78 299.464 Q2192.22 299.464 2194.05 298.098 Q2195.88 296.71 2195.88 294.117 Q2195.88 291.455 2193.98 290.043 Q2192.11 288.608 2188.59 288.608 Q2186.67 288.608 2184.47 289.024 Q2182.27 289.441 2179.63 290.321 L2179.63 286.154 Q2182.29 285.413 2184.61 285.043 Q2186.95 284.673 2189.01 284.673 Q2194.33 284.673 2197.43 287.103 Q2200.54 289.51 2200.54 293.631 Q2200.54 296.501 2198.89 298.492 Q2197.25 300.46 2194.22 301.223 Z\" fill=\"#000000\" fill-rule=\"evenodd\" fill-opacity=\"1\" /><path clip-path=\"url(#clip420)\" d=\"M2214.24 315.922 L2230.56 315.922 L2230.56 319.858 L2208.61 319.858 L2208.61 315.922 Q2211.28 313.168 2215.86 308.538 Q2220.47 303.885 2221.65 302.543 Q2223.89 300.02 2224.77 298.284 Q2225.67 296.524 2225.67 294.835 Q2225.67 292.08 2223.73 290.344 Q2221.81 288.608 2218.71 288.608 Q2216.51 288.608 2214.05 289.372 Q2211.62 290.135 2208.85 291.686 L2208.85 286.964 Q2211.67 285.83 2214.12 285.251 Q2216.58 284.673 2218.61 284.673 Q2223.98 284.673 2227.18 287.358 Q2230.37 290.043 2230.37 294.534 Q2230.37 296.663 2229.56 298.585 Q2228.78 300.483 2226.67 303.075 Q2226.09 303.747 2222.99 306.964 Q2219.89 310.159 2214.24 315.922 Z\" fill=\"#000000\" fill-rule=\"evenodd\" fill-opacity=\"1\" /></svg>\n"
      ]
     },
     "metadata": {},
     "output_type": "display_data"
    }
   ],
   "source": [
    "plt=plot()\n",
    "for l in ls\n",
    "    Ss=[]\n",
    "    plot!(plt,ps,data[arIdx(l,ls),:],label=\"$l\")\n",
    "end\n",
    "display(plt)    "
   ]
  },
  {
   "cell_type": "code",
   "execution_count": 145,
   "metadata": {},
   "outputs": [
    {
     "name": "stdout",
     "output_type": "stream",
     "text": [
      "resulting tableau:\n"
     ]
    },
    {
     "data": {
      "text/plain": [
       "6×6 Array{UInt8,2}:\n",
       " 0x00  0x00  0x01  0x01  0x01  0x00\n",
       " 0x00  0x00  0x01  0x00  0x01  0x00\n",
       " 0x00  0x00  0x01  0x00  0x00  0x00\n",
       " 0x01  0x00  0x00  0x00  0x00  0x00\n",
       " 0x01  0x01  0x00  0x00  0x00  0x00\n",
       " 0x00  0x01  0x00  0x00  0x00  0x01"
      ]
     },
     "metadata": {},
     "output_type": "display_data"
    },
    {
     "name": "stdout",
     "output_type": "stream",
     "text": [
      "rank: 3 and phases:UInt8[0x02, 0x00, 0x02, 0x00, 0x00, 0x00]\n",
      "\n",
      "resulting tableau:\n"
     ]
    },
    {
     "data": {
      "text/plain": [
       "6×6 Array{UInt8,2}:\n",
       " 0x01  0x00  0x00  0x00  0x01  0x00\n",
       " 0x01  0x00  0x00  0x00  0x01  0x01\n",
       " 0x01  0x00  0x00  0x00  0x00  0x00\n",
       " 0x00  0x01  0x01  0x00  0x00  0x00\n",
       " 0x00  0x00  0x01  0x00  0x00  0x00\n",
       " 0x00  0x01  0x00  0x01  0x00  0x00"
      ]
     },
     "metadata": {},
     "output_type": "display_data"
    },
    {
     "name": "stdout",
     "output_type": "stream",
     "text": [
      "rank: 2 and phases:UInt8[0x02, 0x02, 0x02, 0x00, 0x00, 0x00]\n",
      "\n"
     ]
    }
   ],
   "source": [
    "###EXAMPLE: GHZ\n",
    "\n",
    "N=3\n",
    "rho=totallyMixed(3)\n",
    "\n",
    "Z1Z2=UInt8[0,0,0,1,1,0]\n",
    "measure(rho,Z1Z2)\n",
    "\n",
    "Z2Z3=UInt8[0,0,0,0,1,1]\n",
    "measure(rho,Z2Z3)\n",
    "\n",
    "X1X2X3=UInt8[1,1,1,0,0,0]\n",
    "measure(rho,X1X2X3)\n",
    "\n",
    "println(\"resulting tableau:\")\n",
    "display(rho.tab)\n",
    "println(\"rank: $(rho.rank) and phases:$(rho.phases)\\n\")\n",
    "\n",
    "decohereX(rho,2)\n",
    "println(\"resulting tableau:\")\n",
    "display(rho.tab)\n",
    "println(\"rank: $(rho.rank) and phases:$(rho.phases)\\n\")\n"
   ]
  }
 ],
 "metadata": {
  "anaconda-cloud": {},
  "kernelspec": {
   "display_name": "Julia 1.7.2",
   "language": "julia",
   "name": "julia-1.7"
  },
  "language_info": {
   "file_extension": ".jl",
   "mimetype": "application/julia",
   "name": "julia",
   "version": "1.7.2"
  }
 },
 "nbformat": 4,
 "nbformat_minor": 1
}
