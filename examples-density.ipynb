{
 "cells": [
  {
   "cell_type": "code",
   "execution_count": 1,
   "metadata": {},
   "outputs": [],
   "source": [
    "using Plots,FileIO\n",
    "using LinearAlgebra\n",
    "include(\"GKA.jl\");"
   ]
  },
  {
   "cell_type": "code",
   "execution_count": 7,
   "metadata": {},
   "outputs": [
    {
     "name": "stdout",
     "output_type": "stream",
     "text": [
      "initial tableau:\n"
     ]
    },
    {
     "data": {
      "text/plain": [
       "6×6 Array{UInt8,2}:\n",
       " 0x01  0x00  0x00  0x00  0x00  0x00\n",
       " 0x00  0x01  0x00  0x00  0x00  0x00\n",
       " 0x00  0x00  0x01  0x00  0x00  0x00\n",
       " 0x00  0x00  0x00  0x01  0x00  0x00\n",
       " 0x00  0x00  0x00  0x00  0x01  0x00\n",
       " 0x00  0x00  0x00  0x00  0x00  0x01"
      ]
     },
     "metadata": {},
     "output_type": "display_data"
    },
    {
     "name": "stdout",
     "output_type": "stream",
     "text": [
      "rank: 0 and phases:UInt8[0x00, 0x00, 0x00, 0x00, 0x00, 0x00]\n",
      "\n",
      "measure Z1Z2:\n",
      "no noncommuting in-group stabilizer\n",
      "a non-commuting out-of-group stabilizer has been found:\n",
      " UInt8[0x01, 0x00, 0x00, 0x00, 0x00, 0x00]\n",
      "outcome: 0\n",
      "resulting tableau:\n"
     ]
    },
    {
     "data": {
      "text/plain": [
       "6×6 Array{UInt8,2}:\n",
       " 0x00  0x01  0x00  0x01  0x00  0x00\n",
       " 0x00  0x01  0x00  0x00  0x00  0x00\n",
       " 0x00  0x00  0x01  0x00  0x00  0x00\n",
       " 0x01  0x00  0x00  0x00  0x00  0x00\n",
       " 0x01  0x00  0x00  0x00  0x01  0x00\n",
       " 0x00  0x00  0x00  0x00  0x00  0x01"
      ]
     },
     "metadata": {},
     "output_type": "display_data"
    },
    {
     "name": "stdout",
     "output_type": "stream",
     "text": [
      "rank: 1 and phases:UInt8[0x00, 0x00, 0x00, 0x00, 0x00, 0x00]\n",
      "\n",
      "measure Z2Z3:\n",
      "no noncommuting in-group stabilizer\n",
      "a non-commuting out-of-group stabilizer has been found:\n",
      " UInt8[0x01, 0x01, 0x00, 0x00, 0x00, 0x00]\n",
      "outcome: 0\n",
      "resulting tableau:\n"
     ]
    },
    {
     "data": {
      "text/plain": [
       "6×6 Array{UInt8,2}:\n",
       " 0x00  0x00  0x01  0x01  0x01  0x00\n",
       " 0x00  0x00  0x01  0x00  0x01  0x00\n",
       " 0x00  0x00  0x01  0x00  0x00  0x00\n",
       " 0x01  0x00  0x00  0x00  0x00  0x00\n",
       " 0x01  0x01  0x00  0x00  0x00  0x00\n",
       " 0x00  0x01  0x00  0x00  0x00  0x01"
      ]
     },
     "metadata": {},
     "output_type": "display_data"
    },
    {
     "name": "stdout",
     "output_type": "stream",
     "text": [
      "rank: 2 and phases:UInt8[0x00, 0x00, 0x00, 0x00, 0x00, 0x00]\n",
      "\n",
      "measure Z1Z3:\n",
      "no noncommuting in-group stabilizer\n",
      "no noncommuting out-of-group stabilizer\n",
      "no noncommuting out-of-group destabilizer.\n",
      " g is in the stabilizer group\n",
      "outcome: 0\n",
      "resulting tableau:\n"
     ]
    },
    {
     "data": {
      "text/plain": [
       "6×6 Array{UInt8,2}:\n",
       " 0x00  0x00  0x01  0x01  0x01  0x00\n",
       " 0x00  0x00  0x01  0x00  0x01  0x00\n",
       " 0x00  0x00  0x01  0x00  0x00  0x00\n",
       " 0x01  0x00  0x00  0x00  0x00  0x00\n",
       " 0x01  0x01  0x00  0x00  0x00  0x00\n",
       " 0x00  0x01  0x00  0x00  0x00  0x01"
      ]
     },
     "metadata": {},
     "output_type": "display_data"
    },
    {
     "name": "stdout",
     "output_type": "stream",
     "text": [
      "rank: 2 and phases:UInt8[0x00, 0x00, 0x00, 0x00, 0x00, 0x00]\n",
      "\n",
      "measure X1X2X3:\n",
      "no noncommuting in-group stabilizer\n",
      "no noncommuting out-of-group stabilizer\n",
      "a non-commuting out-of-group destabilizer has been found:\n",
      " UInt8[0x00, 0x00, 0x00, 0x00, 0x00, 0x01]\n",
      "outcome: 2\n",
      "resulting tableau:\n"
     ]
    },
    {
     "data": {
      "text/plain": [
       "6×6 Array{UInt8,2}:\n",
       " 0x00  0x00  0x01  0x01  0x01  0x00\n",
       " 0x00  0x00  0x01  0x00  0x01  0x00\n",
       " 0x00  0x00  0x01  0x00  0x00  0x00\n",
       " 0x01  0x00  0x00  0x00  0x00  0x00\n",
       " 0x01  0x01  0x00  0x00  0x00  0x00\n",
       " 0x00  0x01  0x00  0x00  0x00  0x01"
      ]
     },
     "metadata": {},
     "output_type": "display_data"
    },
    {
     "name": "stdout",
     "output_type": "stream",
     "text": [
      "rank: 3 and phases:UInt8[0x00, 0x00, 0x02, 0x00, 0x00, 0x00]\n",
      "\n",
      "measure Z1:\n",
      "outcome: 0\n",
      "resulting tableau:\n"
     ]
    },
    {
     "data": {
      "text/plain": [
       "6×6 Array{UInt8,2}:\n",
       " 0x00  0x00  0x00  0x00  0x00  0x01\n",
       " 0x00  0x00  0x00  0x01  0x00  0x01\n",
       " 0x00  0x00  0x00  0x01  0x01  0x01\n",
       " 0x01  0x00  0x01  0x00  0x00  0x00\n",
       " 0x01  0x01  0x00  0x00  0x00  0x00\n",
       " 0x00  0x01  0x00  0x00  0x00  0x00"
      ]
     },
     "metadata": {},
     "output_type": "display_data"
    },
    {
     "name": "stdout",
     "output_type": "stream",
     "text": [
      "rank: 3 and phases:UInt8[0x00, 0x00, 0x00, 0x00, 0x00, 0x00]\n",
      "\n"
     ]
    }
   ],
   "source": [
    "###EXAMPLE: GHZ\n",
    "\n",
    "N=3\n",
    "rho=totallyMixed(3)\n",
    "println(\"initial tableau:\")\n",
    "display(rho.tab)\n",
    "println(\"rank: $(rho.rank) and phases:$(rho.phases)\\n\")\n",
    "\n",
    "println(\"measure Z1Z2:\")\n",
    "Z1Z2=UInt8[0,0,0,1,1,0]\n",
    "println(\"outcome: \",measure(rho,Z1Z2,0x00,true))\n",
    "println(\"resulting tableau:\")\n",
    "display(rho.tab)\n",
    "println(\"rank: $(rho.rank) and phases:$(rho.phases)\\n\")\n",
    "\n",
    "\n",
    "println(\"measure Z2Z3:\")\n",
    "Z2Z3=UInt8[0,0,0,0,1,1]\n",
    "println(\"outcome: \",measure(rho,Z2Z3,0x00,true))\n",
    "println(\"resulting tableau:\")\n",
    "display(rho.tab)\n",
    "println(\"rank: $(rho.rank) and phases:$(rho.phases)\\n\")\n",
    "\n",
    "println(\"measure Z1Z3:\")\n",
    "Z1Z3=UInt8[0,0,0,1,0,1]\n",
    "println(\"outcome: \",measure(rho,Z1Z3,0x00,true))\n",
    "println(\"resulting tableau:\")\n",
    "display(rho.tab)\n",
    "println(\"rank: $(rho.rank) and phases:$(rho.phases)\\n\")\n",
    "\n",
    "println(\"measure X1X2X3:\")\n",
    "X1X2X3=UInt8[1,1,1,0,0,0]\n",
    "println(\"outcome: \",measure(rho,X1X2X3,0x00,true))\n",
    "println(\"resulting tableau:\")\n",
    "display(rho.tab)\n",
    "println(\"rank: $(rho.rank) and phases:$(rho.phases)\\n\")\n",
    "\n",
    "println(\"measure Z1:\")\n",
    "Z1=UInt8[0,0,0,1,0,0]\n",
    "println(\"outcome: \", measure(rho,Z1,0x00,true))\n",
    "println(\"resulting tableau:\")\n",
    "display(rho.tab)\n",
    "println(\"rank: $(rho.rank) and phases:$(rho.phases)\\n\")\n"
   ]
  }
 ],
 "metadata": {
  "anaconda-cloud": {},
  "kernelspec": {
   "display_name": "Julia 1.4.2",
   "language": "julia",
   "name": "julia-1.4"
  },
  "language_info": {
   "file_extension": ".jl",
   "mimetype": "application/julia",
   "name": "julia",
   "version": "1.4.2"
  }
 },
 "nbformat": 4,
 "nbformat_minor": 1
}
